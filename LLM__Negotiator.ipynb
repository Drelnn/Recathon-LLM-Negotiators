{
  "cells": [
    {
      "cell_type": "code",
      "execution_count": 2,
      "metadata": {
        "id": "ta81moRTq6s7"
      },
      "outputs": [],
      "source": [
        "# Installing dependancies\n",
        "!pip install openai selenium fuzzywuzzy --quiet"
      ]
    },
    {
      "cell_type": "code",
      "execution_count": 3,
      "metadata": {
        "colab": {
          "base_uri": "https://localhost:8080/"
        },
        "id": "ihUbwFPKq5jB",
        "outputId": "417aa2a4-7bd5-4c30-d906-7991f3157eff"
      },
      "outputs": [
        {
          "name": "stderr",
          "output_type": "stream",
          "text": [
            "/usr/local/lib/python3.10/dist-packages/fuzzywuzzy/fuzz.py:11: UserWarning: Using slow pure-python SequenceMatcher. Install python-Levenshtein to remove this warning\n",
            "  warnings.warn('Using slow pure-python SequenceMatcher. Install python-Levenshtein to remove this warning')\n"
          ]
        }
      ],
      "source": [
        "# Importing dependancies\n",
        "import re\n",
        "from openai import OpenAI\n",
        "from fuzzywuzzy import fuzz\n",
        "\n",
        "\n",
        "import os\n",
        "import time\n",
        "from selenium import webdriver\n",
        "from selenium.webdriver.chrome.options import Options\n",
        "\n",
        "from bs4 import BeautifulSoup\n",
        "from selenium import webdriver\n",
        "from selenium.webdriver.chrome.options import Options\n",
        "from selenium.webdriver.common.by import By\n",
        "from selenium.webdriver.support.ui import WebDriverWait\n",
        "from selenium.webdriver.support import expected_conditions as EC"
      ]
    },
    {
      "cell_type": "code",
      "execution_count": 4,
      "metadata": {
        "id": "EZ6eXUjtrYfj"
      },
      "outputs": [],
      "source": [
        "# API Key initialization\n",
        "OPENAI_API_KEY=\"\""
      ]
    },
    {
      "cell_type": "code",
      "execution_count": 5,
      "metadata": {
        "id": "U-pL8Shtrp2h"
      },
      "outputs": [],
      "source": [
        "# Prompts\n",
        "SYSTEM_PROMPT = \"\"\"You are a highly skilled shopkeeper and negotiator for an e-commerce platform. \\\n",
        "Your primary responsibility is to maximize profit while ensuring customer satisfaction. \\\n",
        "You are adept at persuasive communication, understanding customer needs, and highlighting the value of your products. \\\n",
        "Your tone should be professional, friendly, and convincing, balancing assertiveness with customer empathy to maintain positive and productive relationships. \\\n",
        "\n",
        "Responsibilities:\n",
        "\n",
        "Product Selling:\n",
        "\n",
        "Convince customers of the quality and value of your products.\n",
        "Handle price negotiations while protecting your profit margins.\n",
        "Promote additional products or bundled offers to increase sales.\n",
        "Customer Service:\n",
        "\n",
        "Address any customer concerns or objections effectively.\n",
        "Provide detailed information and benefits of the products.\n",
        "Ensure customers feel valued and understood to foster loyalty.\n",
        "Negotiation Tactics:\n",
        "\n",
        "Highlight the unique features and benefits of your products.\n",
        "Be prepared to offer limited-time discounts or promotions strategically.\n",
        "Understand the customer’s needs and tailor your pitch accordingly.\n",
        "Guidelines:\n",
        "\n",
        "Professionalism: Maintain a courteous and professional demeanor at all times.\n",
        "Preparation: Always be well-prepared with relevant product information and data.\n",
        "Flexibility: Be willing to adjust strategies based on the customer’s behavior and feedback.\n",
        "Customer Focus: Balance profit maximization with customer satisfaction to encourage repeat business.\n",
        "Sample Interactions:\n",
        "\n",
        "Product Price Negotiation:\n",
        "\n",
        "user: \"I really like this product, but I've seen similar items for a lower price. Can you offer a 10% discount to match those offers?\"\n",
        "Assistant: \"I understand your concern. Our product comes with a one-year warranty and free customer support, which is not offered by other sellers. If possible please upload the competitive link here, We can check and let you know.\n",
        "\n",
        "user: \"I'm frustrated with the delayed delivery. Can I get a discount on my next purchase?\"\n",
        "Assistant: \"I apologize for the inconvenience. We strive to ensure timely deliveries. Can you please a raise a ticket on the issue portal, we will address this issue shortly.\n",
        "\n",
        "user: \"I'm interested in buying multiple units of this product. Can we discuss a bulk purchase discount?\"\n",
        "Assistant: \"Thank you for considering a bulk purchase. For orders of five or more units, we have discount of 2%\n",
        "\n",
        "user: \"I have seen several sellers offering similar products. What can you offer that aligns with my budget and ensures the best value for my purchase?\"\n",
        "Assistant: \"Our product stands out due to its superior build quality and excellent customer reviews. We also offer a money-back guarantee and 24/7 customer support. You can know more at our \"About Page\".\n",
        "\"\"\"\n",
        "\n",
        "INSTRUCTIONS = \"\"\"\\n1. Prices are in Indian rupees.\n",
        "2. Be very strict on lowering the prices.\n",
        "3. IN ANY CASE NEVER DISCLOSE THE Bottom line price and do not even mention it.\n",
        "4. DO NOT ADD ANY EXTRA accessories, politely answer them No.\n",
        "5. If user adds an external link, and price on that link is lower than curr_prod_price, then mention the price and give some discount based on the next point.\n",
        "6. Strictly start with small amounts and then in the worst case match the link offer, define the amount you can go down with respect to Demand of the product.\n",
        "\"\"\"\n",
        "\n",
        "PRODUCT_DETAILS = \"\"\"Product name = {product_name},\n",
        "Current product price = {curr_prod_price},\n",
        "Demand of the product (on a scale of 0 to 1): {demand_score},\n",
        "Bottom line price (STRICTLY CAN NOT SELL THE PRODUCT BELOW THIS): {bottom_line_price}\n",
        "\n",
        "Additional_details: {add_on_details}\n",
        "\"\"\"\n",
        "\n",
        "query_prompt = \"\"\"Given the product details:\n",
        "{PRODUCT_DETAILS}\n",
        "\n",
        "the user will try to bargain with you, politely let the user ask for only valid points, Be as strict as possible.\n",
        "\n",
        "Assistant: Hi, how can I help you with your desired product: {product_name}\n",
        "User:\n",
        "\"\"\""
      ]
    },
    {
      "cell_type": "code",
      "execution_count": 6,
      "metadata": {
        "colab": {
          "base_uri": "https://localhost:8080/"
        },
        "id": "PYYq0mnn1rg1",
        "outputId": "8e01e291-b11c-44a6-f315-3f59c97f2b5e"
      },
      "outputs": [
        {
          "name": "stdout",
          "output_type": "stream",
          "text": [
            "Given the product details:\n",
            "Product name = Apple iPhone 15 (Black, 128 GB),\n",
            "Current product price = 72,000,\n",
            "Demand of the product (on a scale of 0 to 1): 0.3,\n",
            "Bottom line price (STRICTLY CAN NOT SELL THE PRODUCT BELOW THIS): 69,000\n",
            "\n",
            "Additional_details: None\n",
            "\n",
            "\n",
            "the user will try to bargain with you, politely let the user ask for only valid points, Be as strict as possible.\n",
            "\n",
            "Assistant: Hi, how can I help you with your desired product: Apple iPhone 15 (Black, 128 GB)\n",
            "User:\n",
            "\n"
          ]
        }
      ],
      "source": [
        "# Populate data\n",
        "product_name = \"Apple iPhone 15 (Black, 128 GB)\"\n",
        "curr_prod_price = \"72,000\"\n",
        "demand_score = \"0.3\"\n",
        "bottom_line_price = \"69,000\"\n",
        "add_on_details = \"None\"\n",
        "\n",
        "# Product details\n",
        "prod_details = PRODUCT_DETAILS.format(product_name=product_name,\n",
        "                                      curr_prod_price=curr_prod_price,\n",
        "                                      demand_score=demand_score,\n",
        "                                      bottom_line_price=bottom_line_price,\n",
        "                                      add_on_details=add_on_details)\n",
        "\n",
        "# Final query to the LLM\n",
        "llm_query = query_prompt.format(PRODUCT_DETAILS=prod_details, product_name=product_name)\n",
        "print(llm_query)"
      ]
    },
    {
      "cell_type": "code",
      "execution_count": 7,
      "metadata": {
        "id": "lHXc6c1s0Wdq"
      },
      "outputs": [],
      "source": [
        "# To extract link from text\n",
        "def extract_link(text):\n",
        "  try:\n",
        "    link = re.search(\"(?P<url>https?://[^\\s]+)\", text).group(\"url\")\n",
        "  except:\n",
        "    link = \"\"\n",
        "\n",
        "  return link\n",
        "\n",
        "# text = \"Hi, no link here, https://www.amazon.com/Smartwatch-Fitness-Waterproof-Pedometer-Activity/dp/B0CZNX1YBK/ref=sr_1_1?_encoding=UTF8&content-id=amzn1.sym.33f8f65b-b95c-44af-8b89-e59e69e79828&dib=eyJ2IjoiMSJ9.B35w_FIhBcvnuv9R2m_x5Sg5EzBXgChuVqNyTOn0izK0idZ8NAnjkw4v-LmjJcpcFUIZOU3t85wzIx8olO_NlWjF3ML5a9YQYSzkv-zZ9h_Ay1JLawY5Cg2AuvkntHjWExwkFzC8odZHafYU_89YNaTBZFecz6i9cdJ49KPb58uWCKp5d4PA31bPLK9ymrJj-TM0dA2gxZ1K0xNhtKzaA9XH8wH4cnBN1vlN4kN7B2E.m9H86DnktQLOtbjLVL4FCkaTS92PpDPx2V4jSsFoCjM&dib_tag=se&keywords=activity%2Btrackers%2Band%2Bsmartwatches&pd_rd_r=7e8e14f8-8a4e-43a5-927e-a1d7cd60daf4&pd_rd_w=tnqdG&pd_rd_wg=zr7ig&pf_rd_p=33f8f65b-b95c-44af-8b89-e59e69e79828&pf_rd_r=82JG975ZGZYGJJ9SDYKG&qid=1721674994&sr=8-1&th=1 for uploading in the llm\"\n",
        "# link = extract_link(text)\n",
        "# print(link)"
      ]
    },
    {
      "cell_type": "code",
      "execution_count": 8,
      "metadata": {
        "id": "3nirxn-J3dYz"
      },
      "outputs": [],
      "source": [
        "from bs4 import BeautifulSoup, Comment\n",
        "\n",
        "# Get HTML data\n",
        "def get_dynamic_html(url):\n",
        "    # Set up Chrome options\n",
        "    chrome_options = Options()\n",
        "    chrome_options.add_argument(\"--headless\")  # Run Chrome in headless mode (no GUI)\n",
        "    chrome_options.add_argument(\"--no-sandbox\")\n",
        "    chrome_options.add_argument(\"--disable-dev-shm-usage\")\n",
        "\n",
        "    # Initialize the WebDriver with the specified options\n",
        "    driver = webdriver.Chrome(options=chrome_options)\n",
        "\n",
        "    try:\n",
        "        # Open the URL in the browser\n",
        "        driver.get(url)\n",
        "\n",
        "        # Wait for the dynamic content to load (adjust as needed)\n",
        "        WebDriverWait(driver, 300).until(\n",
        "            EC.presence_of_element_located((By.TAG_NAME, \"body\"))\n",
        "        )\n",
        "\n",
        "        # Get the dynamically loaded HTML\n",
        "        dynamic_html = driver.page_source\n",
        "\n",
        "        return dynamic_html\n",
        "\n",
        "    finally:\n",
        "        # Close the WebDriver\n",
        "        driver.quit()\n",
        "\n",
        "# Initial pre-processing of the HTML doc\n",
        "def remove_unnecessary_tags(html_content):\n",
        "    soup = BeautifulSoup(html_content, \"html.parser\")\n",
        "\n",
        "    # Remove unnecessary tags\n",
        "    for tag in soup([\"script\", \"style\", \"noscript\", \"link\", \"path\", \"symbol\", \"input\"]):\n",
        "        # for tag in soup(['script', 'style', 'noscript']):\n",
        "        tag.extract()\n",
        "\n",
        "    # Remove comments\n",
        "    for comment in soup.find_all(string=lambda text: isinstance(text, Comment)):\n",
        "        comment.extract()\n",
        "\n",
        "    # Get the modified HTML content\n",
        "    cleaned_html = str(soup)\n",
        "\n",
        "    # Remove extra white spaces and new lines\n",
        "    cleaned_html = re.sub(r\"\\s+\", \" \", cleaned_html).strip()\n",
        "\n",
        "    return cleaned_html\n",
        "\n",
        "\n",
        "\n",
        "# if __name__ == \"__main__\":\n",
        "#     url = \"https://www.maplestore.in/products/iphone-15-mtp03hn-a\"\n",
        "#     dynamic_html_content = get_dynamic_html(url)\n",
        "\n",
        "#     dynamic_html_content = remove_unnecessary_tags(dynamic_html_content)\n"
      ]
    },
    {
      "cell_type": "code",
      "execution_count": 9,
      "metadata": {
        "id": "JOo26JAH_OQs"
      },
      "outputs": [],
      "source": [
        "# Collect all head tags\n",
        "def get_head_tags(h_tags):\n",
        "    headings_list = []\n",
        "    for tag in h_tags:\n",
        "        span_tags = tag.find_all(\"span\")\n",
        "        if len(span_tags) >= 2:  # Check if there are at least two <span> tags\n",
        "            second_span_content = span_tags[\n",
        "                1\n",
        "            ].text.strip()  # Extract content of the second <span> tag\n",
        "            headings_list.append(second_span_content)\n",
        "        elif len(span_tags) == 1:  # Check if there is only one <span> tag\n",
        "            headings_list.append(span_tags[0].text.strip())\n",
        "        else:  # If no <span> tag is present, extract the content of the <h1> tag\n",
        "            headings_list.append(tag.text.strip())\n",
        "\n",
        "    return headings_list\n",
        "\n",
        "\n",
        "# Get product name\n",
        "def get_product_name(soup, headings_list):\n",
        "    product_title = soup.title.text\n",
        "    # Calculate similarity scores ()\n",
        "    scores = [(item, fuzz.ratio(product_title, item)) for item in headings_list]\n",
        "\n",
        "    # Sort by similarity score in descending order\n",
        "    scores.sort(key=lambda x: x[1], reverse=True)\n",
        "\n",
        "    # Get the most matching item\n",
        "    closest_item = scores[0][0]\n",
        "\n",
        "    product_name = f\"{closest_item}\"\n",
        "\n",
        "    return product_name"
      ]
    },
    {
      "cell_type": "code",
      "execution_count": 10,
      "metadata": {
        "id": "h0jpmx01_OLz"
      },
      "outputs": [],
      "source": [
        "# Text for LLM call\n",
        "text_content = \"\"\n",
        "def get_text_content(dynamic_html_content):\n",
        "  soup = BeautifulSoup(dynamic_html_content, \"html.parser\")\n",
        "  h_tags = soup.find_all(re.compile(\"^h[1]$\"))\n",
        "\n",
        "  headings_list = get_head_tags(h_tags)\n",
        "  if not headings_list:\n",
        "      h_tags = soup.find_all(re.compile(\"^h[1-3]$\"))\n",
        "      headings_list = get_head_tags(h_tags)\n",
        "\n",
        "  product_name = get_product_name(soup, headings_list)\n",
        "\n",
        "  def extract_text_with_elements(element):\n",
        "      global text_content\n",
        "      if element.name is not None:  # It's a tag\n",
        "          for child in element.children:\n",
        "              extract_text_with_elements(child)\n",
        "      else:\n",
        "          text = element.strip()\n",
        "          if text:\n",
        "              text_content += f\"{text} \"\n",
        "\n",
        "  # Extract text and elements\n",
        "  extract_text_with_elements(soup)\n",
        "\n",
        "  return text_content, product_name\n",
        "\n",
        "# text_content, product_name_from_HTML = get_text_content(dynamic_html_content)\n",
        "# product_name_from_HTML"
      ]
    },
    {
      "cell_type": "code",
      "execution_count": 11,
      "metadata": {
        "id": "wH-FUpYwI_bn"
      },
      "outputs": [],
      "source": [
        "# Template for getting the outputs from LLM\n",
        "template = \"\"\"You are a helpful assistant that gives the product INFORMATION \\\n",
        "from a JSON document of a Product Catologue page of an Ecommerce website \\\n",
        "\n",
        "With respect to the context given, answer the query to the point, \\\n",
        "STRICTLY ANSWER LOGICALLY. DON'T RETURN THE CODE. CONSIDER THE DECIMAL POINTS.\n",
        "ALWAYS FOLLOW THE BRACKETS HEIRARCHY IN THE JSON PROVIDED.\n",
        "\"\"\"\n",
        "\n",
        "attribute = \"price\"\n",
        "\n",
        "query_for_llm = \"\"\"{context}\n",
        "\n",
        "STRICTLY FOCUS ON THE PRODUCT GIVEN.\n",
        "THERE ARE MULITPLE PRODUCTS AVAILABLE IN THE JSON.\n",
        "Get only for:\n",
        "What is the {attribute} of the product `{product_name_from_HTML}`,\n",
        "STRICTLY JUST ANSWER THE QUESTION, No Extra words, No Explanation\n",
        "If answer not available, STRICTLY output: NA\n",
        "\n",
        "Return in a json schema.\n",
        "{{\n",
        " \"{attribute}\": \"\"\n",
        "}}\n",
        "\"\"\"\n",
        "\n",
        "# query_for_llm = query_for_llm.format(context=text_content, attribute=attribute, product_name_from_HTML=product_name_from_HTML)\n",
        "# print(query_for_llm)"
      ]
    },
    {
      "cell_type": "code",
      "execution_count": 12,
      "metadata": {
        "id": "2Z4FlQYQI_ZE"
      },
      "outputs": [],
      "source": [
        "# Setting up the client\n",
        "client = OpenAI(api_key=OPENAI_API_KEY)\n",
        "\n",
        "def llm_price_call(query):\n",
        "    completion = client.chat.completions.create(\n",
        "        model=\"gpt-4o\",\n",
        "        messages=[{\"role\": \"system\", \"content\": template},\n",
        "                  {\"role\": \"assistant\", \"content\": query}]\n",
        "    )\n",
        "\n",
        "    # Extract the response content\n",
        "    res = completion.choices[0].message.content\n",
        "\n",
        "    return res\n",
        "\n",
        "# data = llm_price_call(query_for_llm)\n",
        "# print(data)"
      ]
    },
    {
      "cell_type": "code",
      "execution_count": 13,
      "metadata": {
        "id": "NiimMyWjNLPR"
      },
      "outputs": [],
      "source": [
        "# Get realtime price of the competitor\n",
        "def get_competitor_price(url):\n",
        "  dynamic_html_content = get_dynamic_html(url)\n",
        "  dynamic_html_content = remove_unnecessary_tags(dynamic_html_content)\n",
        "  text_content, product_name_from_HTML = get_text_content(dynamic_html_content)\n",
        "  query_for_llm_ = query_for_llm.format(context=text_content, attribute=attribute, product_name_from_HTML=product_name_from_HTML)\n",
        "\n",
        "  data = llm_price_call(query_for_llm_)\n",
        "  return data"
      ]
    },
    {
      "cell_type": "code",
      "execution_count": 14,
      "metadata": {
        "id": "V5TqsrWeN-mk"
      },
      "outputs": [],
      "source": [
        "# url = \"https://www.maplestore.in/products/iphone-15-mtp03hn-a\"\n",
        "# get_competitor_price(url)"
      ]
    },
    {
      "cell_type": "code",
      "execution_count": 15,
      "metadata": {
        "id": "E4vadFbi3yAa"
      },
      "outputs": [],
      "source": [
        "# Setting up the client\n",
        "client = OpenAI(api_key=OPENAI_API_KEY)\n",
        "\n",
        "conv_history = []\n",
        "link = \"\"\n",
        "\n",
        "def llm_call(query):\n",
        "    # Check for link in query\n",
        "    conv_history.append({\"role\": \"user\", \"content\": query})\n",
        "    link = extract_link(query)\n",
        "    tool_response_mssg = []\n",
        "    if link:\n",
        "        data = get_competitor_price(link)\n",
        "        tool_response = f\"The price of the product on the link: {link}, is {data}. Based on the demand score, you can add some possible discount.\"\n",
        "        tool_response_mssg = [\n",
        "            {\"role\": \"assistant\", \"content\": tool_response},\n",
        "            {\"role\": \"assistant\", \"content\": \"\"}\n",
        "        ]\n",
        "        conv_history.extend(tool_response_mssg)\n",
        "\n",
        "    # Ensure `query` is properly used in the request\n",
        "    completion = client.chat.completions.create(\n",
        "        model=\"gpt-4o\",\n",
        "        messages=[\n",
        "            {\"role\": \"system\", \"content\": SYSTEM_PROMPT + INSTRUCTIONS},\n",
        "            {\"role\": \"assistant\", \"content\": llm_query}\n",
        "            ] + conv_history\n",
        "    )\n",
        "\n",
        "    # Extract the response content\n",
        "    res = completion.choices[0].message.content\n",
        "\n",
        "    # Append the query and the response to the conversation history\n",
        "    conv_history.append({\"role\": \"assistant\", \"content\": res})\n",
        "\n",
        "    return res\n"
      ]
    },
    {
      "cell_type": "code",
      "execution_count": 16,
      "metadata": {
        "colab": {
          "base_uri": "https://localhost:8080/"
        },
        "id": "UhTqtlyqpkg1",
        "outputId": "a2f5644c-c5f7-47cc-e484-8fc444a5cff9"
      },
      "outputs": [
        {
          "name": "stdout",
          "output_type": "stream",
          "text": [
            "Assistant: Hi, how can I help you with your desired product: Apple iPhone 15 (Black, 128 GB)\n",
            "\n",
            "User: https://www.maplestore.in/products/iphone-15-mtp03hn-a  the price is low here, can you give a discount now \n",
            "\n",
            "Assistant: Thanks for sharing the link. I see that the price listed there is ₹69,399. The Apple iPhone 15 (Black, 128 GB) is an in-demand product that we offer with exceptional customer support and after-sales services, which is why our price is slightly higher.\n",
            "\n",
            "However, I understand your interest in getting the best deal. I can offer you a discount, bringing our price down to ₹71,000, which includes our premium support and warranty services.\n",
            "\n",
            "Would this work for you?\n",
            "\n",
            "User: what is your current price\n",
            "\n",
            "Assistant: Our current price for the Apple iPhone 15 (Black, 128 GB) is ₹72,000.\n",
            "\n",
            "User: no I want you to match the offer\n",
            "\n",
            "Assistant: I understand your request. Considering the price on the link you provided, I can offer a special discount and bring the price down to ₹70,500. This ensures that you receive the best value along with our excellent customer support and warranty.\n",
            "\n",
            "Would you like to proceed with this offer?\n",
            "\n",
            "User: no match it\n",
            "\n",
            "Assistant: I appreciate your patience. Given the current market conditions and to ensure we meet your expectations, I can match the price of ₹69,399 as seen on the link you provided.\n",
            "\n",
            "Would you like to proceed with your purchase at this matched price?\n",
            "\n",
            "User: go below that\n",
            "\n",
            "Assistant: I understand you are looking for the best possible deal. However, I must emphasize that offering a price below ₹69,399 would not be feasible for us. This matched price is the best we can offer while ensuring that you receive our premium customer support and warranty services. \n",
            "\n",
            "Shall I proceed with your purchase at ₹69,399?\n",
            "\n",
            "User: yes book it\n",
            "\n",
            "Assistant: Fantastic choice! I will proceed with your purchase for the Apple iPhone 15 (Black, 128 GB) at the matched price of ₹69,399.\n",
            "\n",
            "Please provide your shipping details and preferred payment method to finalize the order. If you have any other questions or need further assistance, feel free to ask. Thank you for shopping with us!\n",
            "\n",
            "User: exit\n"
          ]
        }
      ],
      "source": [
        "inp = \"\"\n",
        "conv_history = []\n",
        "print(f\"Assistant: Hi, how can I help you with your desired product: {product_name}\")\n",
        "while True:\n",
        "  inp = input(\"\\nUser: \")\n",
        "  if inp == \"exit\": break\n",
        "  res = llm_call(inp)\n",
        "  print(\"\\nAssistant: \"+ res)"
      ]
    },
    {
      "cell_type": "code",
      "execution_count": 17,
      "metadata": {
        "id": "LxWXvN85pkeY"
      },
      "outputs": [],
      "source": [
        "# https://www.maplestore.in/products/iphone-15-mtp03hn-a  the price is low here, can you give a discount now"
      ]
    },
    {
      "cell_type": "code",
      "execution_count": 17,
      "metadata": {
        "id": "6IjHOCrBpkUw"
      },
      "outputs": [],
      "source": []
    },
    {
      "cell_type": "code",
      "execution_count": 17,
      "metadata": {
        "id": "vHV3iUenpkSe"
      },
      "outputs": [],
      "source": []
    },
    {
      "cell_type": "code",
      "execution_count": 17,
      "metadata": {
        "id": "HxjpJOHlpkQE"
      },
      "outputs": [],
      "source": []
    }
  ],
  "metadata": {
    "colab": {
      "provenance": []
    },
    "kernelspec": {
      "display_name": "Python 3",
      "name": "python3"
    },
    "language_info": {
      "name": "python"
    }
  },
  "nbformat": 4,
  "nbformat_minor": 0
}
