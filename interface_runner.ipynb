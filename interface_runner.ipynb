{
  "cells": [
    {
      "cell_type": "code",
      "execution_count": null,
      "metadata": {
        "colab": {
          "base_uri": "https://localhost:8080/",
          "height": 1000
        },
        "id": "VDTg-uIfZ9Zz",
        "outputId": "9d2611f5-6522-4c98-ce3b-08e9d040c4fa"
      },
      "outputs": [
        {
          "name": "stdout",
          "output_type": "stream",
          "text": [
            "Requirement already satisfied: openai in /usr/local/lib/python3.10/dist-packages (1.37.0)\n",
            "Collecting embedchain\n",
            "  Downloading embedchain-0.1.118-py3-none-any.whl (209 kB)\n",
            "\u001b[2K     \u001b[90m━━━━━━━━━━━━━━━━━━━━━━━━━━━━━━━━━━━━━━━━\u001b[0m \u001b[32m209.3/209.3 kB\u001b[0m \u001b[31m4.1 MB/s\u001b[0m eta \u001b[36m0:00:00\u001b[0m\n",
            "\u001b[?25hRequirement already satisfied: serpapi in /usr/local/lib/python3.10/dist-packages (0.1.5)\n",
            "Requirement already satisfied: google-search-results in /usr/local/lib/python3.10/dist-packages (2.4.2)\n",
            "Requirement already satisfied: matplotlib in /usr/local/lib/python3.10/dist-packages (3.9.1)\n",
            "Requirement already satisfied: anyio<5,>=3.5.0 in /usr/local/lib/python3.10/dist-packages (from openai) (3.7.1)\n",
            "Requirement already satisfied: distro<2,>=1.7.0 in /usr/lib/python3/dist-packages (from openai) (1.7.0)\n",
            "Requirement already satisfied: httpx<1,>=0.23.0 in /usr/local/lib/python3.10/dist-packages (from openai) (0.27.0)\n",
            "Requirement already satisfied: pydantic<3,>=1.9.0 in /usr/local/lib/python3.10/dist-packages (from openai) (2.8.2)\n",
            "Requirement already satisfied: sniffio in /usr/local/lib/python3.10/dist-packages (from openai) (1.3.1)\n",
            "Requirement already satisfied: tqdm>4 in /usr/local/lib/python3.10/dist-packages (from openai) (4.66.4)\n",
            "Requirement already satisfied: typing-extensions<5,>=4.7 in /usr/local/lib/python3.10/dist-packages (from openai) (4.12.2)\n",
            "Collecting alembic<2.0.0,>=1.13.1 (from embedchain)\n",
            "  Downloading alembic-1.13.2-py3-none-any.whl (232 kB)\n",
            "\u001b[2K     \u001b[90m━━━━━━━━━━━━━━━━━━━━━━━━━━━━━━━━━━━━━━━━\u001b[0m \u001b[32m233.0/233.0 kB\u001b[0m \u001b[31m23.9 MB/s\u001b[0m eta \u001b[36m0:00:00\u001b[0m\n",
            "\u001b[?25hRequirement already satisfied: beautifulsoup4<5.0.0,>=4.12.2 in /usr/local/lib/python3.10/dist-packages (from embedchain) (4.12.3)\n",
            "Collecting chromadb<0.5.0,>=0.4.24 (from embedchain)\n",
            "  Downloading chromadb-0.4.24-py3-none-any.whl (525 kB)\n",
            "\u001b[2K     \u001b[90m━━━━━━━━━━━━━━━━━━━━━━━━━━━━━━━━━━━━━━━━\u001b[0m \u001b[32m525.5/525.5 kB\u001b[0m \u001b[31m28.9 MB/s\u001b[0m eta \u001b[36m0:00:00\u001b[0m\n",
            "\u001b[?25hCollecting cohere<6.0,>=5.3 (from embedchain)\n",
            "  Downloading cohere-5.6.2-py3-none-any.whl (177 kB)\n",
            "\u001b[2K     \u001b[90m━━━━━━━━━━━━━━━━━━━━━━━━━━━━━━━━━━━━━━━━\u001b[0m \u001b[32m177.4/177.4 kB\u001b[0m \u001b[31m19.9 MB/s\u001b[0m eta \u001b[36m0:00:00\u001b[0m\n",
            "\u001b[?25hRequirement already satisfied: google-cloud-aiplatform<2.0.0,>=1.26.1 in /usr/local/lib/python3.10/dist-packages (from embedchain) (1.59.0)\n",
            "Collecting gptcache<0.2.0,>=0.1.43 (from embedchain)\n",
            "  Downloading gptcache-0.1.43-py3-none-any.whl (131 kB)\n",
            "\u001b[2K     \u001b[90m━━━━━━━━━━━━━━━━━━━━━━━━━━━━━━━━━━━━━━━━\u001b[0m \u001b[32m131.5/131.5 kB\u001b[0m \u001b[31m15.9 MB/s\u001b[0m eta \u001b[36m0:00:00\u001b[0m\n",
            "\u001b[?25hCollecting langchain<=0.3,>0.2 (from embedchain)\n",
            "  Downloading langchain-0.2.10-py3-none-any.whl (990 kB)\n",
            "\u001b[2K     \u001b[90m━━━━━━━━━━━━━━━━━━━━━━━━━━━━━━━━━━━━━━━━\u001b[0m \u001b[32m990.0/990.0 kB\u001b[0m \u001b[31m45.0 MB/s\u001b[0m eta \u001b[36m0:00:00\u001b[0m\n",
            "\u001b[?25hCollecting langchain-cohere<0.2.0,>=0.1.4 (from embedchain)\n",
            "  Downloading langchain_cohere-0.1.9-py3-none-any.whl (35 kB)\n",
            "Collecting langchain-community<0.3.0,>=0.2.6 (from embedchain)\n",
            "  Downloading langchain_community-0.2.9-py3-none-any.whl (2.3 MB)\n",
            "\u001b[2K     \u001b[90m━━━━━━━━━━━━━━━━━━━━━━━━━━━━━━━━━━━━━━━━\u001b[0m \u001b[32m2.3/2.3 MB\u001b[0m \u001b[31m61.2 MB/s\u001b[0m eta \u001b[36m0:00:00\u001b[0m\n",
            "\u001b[?25hCollecting langchain-openai<0.2.0,>=0.1.7 (from embedchain)\n",
            "  Downloading langchain_openai-0.1.17-py3-none-any.whl (46 kB)\n",
            "\u001b[2K     \u001b[90m━━━━━━━━━━━━━━━━━━━━━━━━━━━━━━━━━━━━━━━━\u001b[0m \u001b[32m46.7/46.7 kB\u001b[0m \u001b[31m5.2 MB/s\u001b[0m eta \u001b[36m0:00:00\u001b[0m\n",
            "\u001b[?25hCollecting mem0ai<0.0.6,>=0.0.5 (from embedchain)\n",
            "  Downloading mem0ai-0.0.5-py3-none-any.whl (26 kB)\n",
            "Collecting posthog<4.0.0,>=3.0.2 (from embedchain)\n",
            "  Downloading posthog-3.5.0-py2.py3-none-any.whl (41 kB)\n",
            "\u001b[2K     \u001b[90m━━━━━━━━━━━━━━━━━━━━━━━━━━━━━━━━━━━━━━━━\u001b[0m \u001b[32m41.3/41.3 kB\u001b[0m \u001b[31m4.3 MB/s\u001b[0m eta \u001b[36m0:00:00\u001b[0m\n",
            "\u001b[?25hCollecting pypdf<5.0.0,>=4.0.1 (from embedchain)\n",
            "  Downloading pypdf-4.3.1-py3-none-any.whl (295 kB)\n",
            "\u001b[2K     \u001b[90m━━━━━━━━━━━━━━━━━━━━━━━━━━━━━━━━━━━━━━━━\u001b[0m \u001b[32m295.8/295.8 kB\u001b[0m \u001b[31m25.5 MB/s\u001b[0m eta \u001b[36m0:00:00\u001b[0m\n",
            "\u001b[?25hCollecting pysbd<0.4.0,>=0.3.4 (from embedchain)\n",
            "  Downloading pysbd-0.3.4-py3-none-any.whl (71 kB)\n",
            "\u001b[2K     \u001b[90m━━━━━━━━━━━━━━━━━━━━━━━━━━━━━━━━━━━━━━━━\u001b[0m \u001b[32m71.1/71.1 kB\u001b[0m \u001b[31m7.6 MB/s\u001b[0m eta \u001b[36m0:00:00\u001b[0m\n",
            "\u001b[?25hCollecting python-dotenv<2.0.0,>=1.0.0 (from embedchain)\n",
            "  Downloading python_dotenv-1.0.1-py3-none-any.whl (19 kB)\n",
            "Requirement already satisfied: rich<14.0.0,>=13.7.0 in /usr/local/lib/python3.10/dist-packages (from embedchain) (13.7.1)\n",
            "Collecting schema<0.8.0,>=0.7.5 (from embedchain)\n",
            "  Downloading schema-0.7.7-py2.py3-none-any.whl (18 kB)\n",
            "Requirement already satisfied: sqlalchemy<3.0.0,>=2.0.27 in /usr/local/lib/python3.10/dist-packages (from embedchain) (2.0.31)\n",
            "Collecting tiktoken<0.8.0,>=0.7.0 (from embedchain)\n",
            "  Downloading tiktoken-0.7.0-cp310-cp310-manylinux_2_17_x86_64.manylinux2014_x86_64.whl (1.1 MB)\n",
            "\u001b[2K     \u001b[90m━━━━━━━━━━━━━━━━━━━━━━━━━━━━━━━━━━━━━━━━\u001b[0m \u001b[32m1.1/1.1 MB\u001b[0m \u001b[31m50.9 MB/s\u001b[0m eta \u001b[36m0:00:00\u001b[0m\n",
            "\u001b[?25hRequirement already satisfied: requests in /usr/local/lib/python3.10/dist-packages (from serpapi) (2.31.0)\n",
            "Requirement already satisfied: contourpy>=1.0.1 in /usr/local/lib/python3.10/dist-packages (from matplotlib) (1.2.1)\n",
            "Requirement already satisfied: cycler>=0.10 in /usr/local/lib/python3.10/dist-packages (from matplotlib) (0.12.1)\n",
            "Requirement already satisfied: fonttools>=4.22.0 in /usr/local/lib/python3.10/dist-packages (from matplotlib) (4.53.1)\n",
            "Requirement already satisfied: kiwisolver>=1.3.1 in /usr/local/lib/python3.10/dist-packages (from matplotlib) (1.4.5)\n",
            "Requirement already satisfied: numpy>=1.23 in /usr/local/lib/python3.10/dist-packages (from matplotlib) (1.25.2)\n",
            "Requirement already satisfied: packaging>=20.0 in /usr/local/lib/python3.10/dist-packages (from matplotlib) (24.1)\n",
            "Requirement already satisfied: pillow>=8 in /usr/local/lib/python3.10/dist-packages (from matplotlib) (9.4.0)\n",
            "Requirement already satisfied: pyparsing>=2.3.1 in /usr/local/lib/python3.10/dist-packages (from matplotlib) (3.1.2)\n",
            "Requirement already satisfied: python-dateutil>=2.7 in /usr/local/lib/python3.10/dist-packages (from matplotlib) (2.8.2)\n",
            "Collecting Mako (from alembic<2.0.0,>=1.13.1->embedchain)\n",
            "  Downloading Mako-1.3.5-py3-none-any.whl (78 kB)\n",
            "\u001b[2K     \u001b[90m━━━━━━━━━━━━━━━━━━━━━━━━━━━━━━━━━━━━━━━━\u001b[0m \u001b[32m78.6/78.6 kB\u001b[0m \u001b[31m8.4 MB/s\u001b[0m eta \u001b[36m0:00:00\u001b[0m\n",
            "\u001b[?25hRequirement already satisfied: idna>=2.8 in /usr/local/lib/python3.10/dist-packages (from anyio<5,>=3.5.0->openai) (3.7)\n",
            "Requirement already satisfied: exceptiongroup in /usr/local/lib/python3.10/dist-packages (from anyio<5,>=3.5.0->openai) (1.2.2)\n",
            "Requirement already satisfied: soupsieve>1.2 in /usr/local/lib/python3.10/dist-packages (from beautifulsoup4<5.0.0,>=4.12.2->embedchain) (2.5)\n",
            "Requirement already satisfied: build>=1.0.3 in /usr/local/lib/python3.10/dist-packages (from chromadb<0.5.0,>=0.4.24->embedchain) (1.2.1)\n",
            "Collecting chroma-hnswlib==0.7.3 (from chromadb<0.5.0,>=0.4.24->embedchain)\n",
            "  Downloading chroma_hnswlib-0.7.3-cp310-cp310-manylinux_2_17_x86_64.manylinux2014_x86_64.whl (2.4 MB)\n",
            "\u001b[2K     \u001b[90m━━━━━━━━━━━━━━━━━━━━━━━━━━━━━━━━━━━━━━━━\u001b[0m \u001b[32m2.4/2.4 MB\u001b[0m \u001b[31m56.7 MB/s\u001b[0m eta \u001b[36m0:00:00\u001b[0m\n",
            "\u001b[?25hCollecting fastapi>=0.95.2 (from chromadb<0.5.0,>=0.4.24->embedchain)\n",
            "  Downloading fastapi-0.111.1-py3-none-any.whl (92 kB)\n",
            "\u001b[2K     \u001b[90m━━━━━━━━━━━━━━━━━━━━━━━━━━━━━━━━━━━━━━━━\u001b[0m \u001b[32m92.2/92.2 kB\u001b[0m \u001b[31m10.6 MB/s\u001b[0m eta \u001b[36m0:00:00\u001b[0m\n",
            "\u001b[?25hCollecting uvicorn[standard]>=0.18.3 (from chromadb<0.5.0,>=0.4.24->embedchain)\n",
            "  Downloading uvicorn-0.30.3-py3-none-any.whl (62 kB)\n",
            "\u001b[2K     \u001b[90m━━━━━━━━━━━━━━━━━━━━━━━━━━━━━━━━━━━━━━━━\u001b[0m \u001b[32m62.8/62.8 kB\u001b[0m \u001b[31m6.3 MB/s\u001b[0m eta \u001b[36m0:00:00\u001b[0m\n",
            "\u001b[?25hCollecting pulsar-client>=3.1.0 (from chromadb<0.5.0,>=0.4.24->embedchain)\n",
            "  Downloading pulsar_client-3.5.0-cp310-cp310-manylinux_2_17_x86_64.manylinux2014_x86_64.whl (5.4 MB)\n",
            "\u001b[2K     \u001b[90m━━━━━━━━━━━━━━━━━━━━━━━━━━━━━━━━━━━━━━━━\u001b[0m \u001b[32m5.4/5.4 MB\u001b[0m \u001b[31m75.6 MB/s\u001b[0m eta \u001b[36m0:00:00\u001b[0m\n",
            "\u001b[?25hCollecting onnxruntime>=1.14.1 (from chromadb<0.5.0,>=0.4.24->embedchain)\n",
            "  Downloading onnxruntime-1.18.1-cp310-cp310-manylinux_2_27_x86_64.manylinux_2_28_x86_64.whl (6.8 MB)\n",
            "\u001b[2K     \u001b[90m━━━━━━━━━━━━━━━━━━━━━━━━━━━━━━━━━━━━━━━━\u001b[0m \u001b[32m6.8/6.8 MB\u001b[0m \u001b[31m71.5 MB/s\u001b[0m eta \u001b[36m0:00:00\u001b[0m\n",
            "\u001b[?25hCollecting opentelemetry-api>=1.2.0 (from chromadb<0.5.0,>=0.4.24->embedchain)\n",
            "  Downloading opentelemetry_api-1.25.0-py3-none-any.whl (59 kB)\n",
            "\u001b[2K     \u001b[90m━━━━━━━━━━━━━━━━━━━━━━━━━━━━━━━━━━━━━━━━\u001b[0m \u001b[32m59.9/59.9 kB\u001b[0m \u001b[31m7.3 MB/s\u001b[0m eta \u001b[36m0:00:00\u001b[0m\n",
            "\u001b[?25hCollecting opentelemetry-exporter-otlp-proto-grpc>=1.2.0 (from chromadb<0.5.0,>=0.4.24->embedchain)\n",
            "  Downloading opentelemetry_exporter_otlp_proto_grpc-1.25.0-py3-none-any.whl (18 kB)\n",
            "Collecting opentelemetry-instrumentation-fastapi>=0.41b0 (from chromadb<0.5.0,>=0.4.24->embedchain)\n",
            "  Downloading opentelemetry_instrumentation_fastapi-0.46b0-py3-none-any.whl (11 kB)\n",
            "Collecting opentelemetry-sdk>=1.2.0 (from chromadb<0.5.0,>=0.4.24->embedchain)\n",
            "  Downloading opentelemetry_sdk-1.25.0-py3-none-any.whl (107 kB)\n",
            "\u001b[2K     \u001b[90m━━━━━━━━━━━━━━━━━━━━━━━━━━━━━━━━━━━━━━━━\u001b[0m \u001b[32m107.0/107.0 kB\u001b[0m \u001b[31m11.8 MB/s\u001b[0m eta \u001b[36m0:00:00\u001b[0m\n",
            "\u001b[?25hRequirement already satisfied: tokenizers>=0.13.2 in /usr/local/lib/python3.10/dist-packages (from chromadb<0.5.0,>=0.4.24->embedchain) (0.19.1)\n",
            "Collecting pypika>=0.48.9 (from chromadb<0.5.0,>=0.4.24->embedchain)\n",
            "  Downloading PyPika-0.48.9.tar.gz (67 kB)\n",
            "\u001b[2K     \u001b[90m━━━━━━━━━━━━━━━━━━━━━━━━━━━━━━━━━━━━━━━━\u001b[0m \u001b[32m67.3/67.3 kB\u001b[0m \u001b[31m8.0 MB/s\u001b[0m eta \u001b[36m0:00:00\u001b[0m\n",
            "\u001b[?25h  Installing build dependencies ... \u001b[?25l\u001b[?25hdone\n",
            "  Getting requirements to build wheel ... \u001b[?25l\u001b[?25hdone\n",
            "  Preparing metadata (pyproject.toml) ... \u001b[?25l\u001b[?25hdone\n",
            "Collecting overrides>=7.3.1 (from chromadb<0.5.0,>=0.4.24->embedchain)\n",
            "  Downloading overrides-7.7.0-py3-none-any.whl (17 kB)\n",
            "Requirement already satisfied: importlib-resources in /usr/local/lib/python3.10/dist-packages (from chromadb<0.5.0,>=0.4.24->embedchain) (6.4.0)\n",
            "Requirement already satisfied: grpcio>=1.58.0 in /usr/local/lib/python3.10/dist-packages (from chromadb<0.5.0,>=0.4.24->embedchain) (1.64.1)\n",
            "Collecting bcrypt>=4.0.1 (from chromadb<0.5.0,>=0.4.24->embedchain)\n",
            "  Downloading bcrypt-4.2.0-cp39-abi3-manylinux_2_28_x86_64.whl (273 kB)\n",
            "\u001b[2K     \u001b[90m━━━━━━━━━━━━━━━━━━━━━━━━━━━━━━━━━━━━━━━━\u001b[0m \u001b[32m273.8/273.8 kB\u001b[0m \u001b[31m19.7 MB/s\u001b[0m eta \u001b[36m0:00:00\u001b[0m\n",
            "\u001b[?25hRequirement already satisfied: typer>=0.9.0 in /usr/local/lib/python3.10/dist-packages (from chromadb<0.5.0,>=0.4.24->embedchain) (0.12.3)\n",
            "Collecting kubernetes>=28.1.0 (from chromadb<0.5.0,>=0.4.24->embedchain)\n",
            "  Downloading kubernetes-30.1.0-py2.py3-none-any.whl (1.7 MB)\n",
            "\u001b[2K     \u001b[90m━━━━━━━━━━━━━━━━━━━━━━━━━━━━━━━━━━━━━━━━\u001b[0m \u001b[32m1.7/1.7 MB\u001b[0m \u001b[31m49.3 MB/s\u001b[0m eta \u001b[36m0:00:00\u001b[0m\n",
            "\u001b[?25hRequirement already satisfied: tenacity>=8.2.3 in /usr/local/lib/python3.10/dist-packages (from chromadb<0.5.0,>=0.4.24->embedchain) (8.5.0)\n",
            "Requirement already satisfied: PyYAML>=6.0.0 in /usr/local/lib/python3.10/dist-packages (from chromadb<0.5.0,>=0.4.24->embedchain) (6.0.1)\n",
            "Collecting mmh3>=4.0.1 (from chromadb<0.5.0,>=0.4.24->embedchain)\n",
            "  Downloading mmh3-4.1.0-cp310-cp310-manylinux_2_5_x86_64.manylinux1_x86_64.manylinux_2_17_x86_64.manylinux2014_x86_64.whl (67 kB)\n",
            "\u001b[2K     \u001b[90m━━━━━━━━━━━━━━━━━━━━━━━━━━━━━━━━━━━━━━━━\u001b[0m \u001b[32m67.6/67.6 kB\u001b[0m \u001b[31m7.6 MB/s\u001b[0m eta \u001b[36m0:00:00\u001b[0m\n",
            "\u001b[?25hCollecting orjson>=3.9.12 (from chromadb<0.5.0,>=0.4.24->embedchain)\n",
            "  Downloading orjson-3.10.6-cp310-cp310-manylinux_2_17_x86_64.manylinux2014_x86_64.whl (141 kB)\n",
            "\u001b[2K     \u001b[90m━━━━━━━━━━━━━━━━━━━━━━━━━━━━━━━━━━━━━━━━\u001b[0m \u001b[32m141.1/141.1 kB\u001b[0m \u001b[31m15.1 MB/s\u001b[0m eta \u001b[36m0:00:00\u001b[0m\n",
            "\u001b[?25hCollecting boto3<2.0.0,>=1.34.0 (from cohere<6.0,>=5.3->embedchain)\n",
            "  Downloading boto3-1.34.146-py3-none-any.whl (139 kB)\n",
            "\u001b[2K     \u001b[90m━━━━━━━━━━━━━━━━━━━━━━━━━━━━━━━━━━━━━━━━\u001b[0m \u001b[32m139.2/139.2 kB\u001b[0m \u001b[31m13.9 MB/s\u001b[0m eta \u001b[36m0:00:00\u001b[0m\n",
            "\u001b[?25hCollecting fastavro<2.0.0,>=1.9.4 (from cohere<6.0,>=5.3->embedchain)\n",
            "  Downloading fastavro-1.9.5-cp310-cp310-manylinux_2_17_x86_64.manylinux2014_x86_64.whl (3.1 MB)\n",
            "\u001b[2K     \u001b[90m━━━━━━━━━━━━━━━━━━━━━━━━━━━━━━━━━━━━━━━━\u001b[0m \u001b[32m3.1/3.1 MB\u001b[0m \u001b[31m79.9 MB/s\u001b[0m eta \u001b[36m0:00:00\u001b[0m\n",
            "\u001b[?25hCollecting httpx-sse<0.5.0,>=0.4.0 (from cohere<6.0,>=5.3->embedchain)\n",
            "  Downloading httpx_sse-0.4.0-py3-none-any.whl (7.8 kB)\n",
            "Collecting parameterized<0.10.0,>=0.9.0 (from cohere<6.0,>=5.3->embedchain)\n",
            "  Downloading parameterized-0.9.0-py2.py3-none-any.whl (20 kB)\n",
            "Collecting types-requests<3.0.0,>=2.0.0 (from cohere<6.0,>=5.3->embedchain)\n",
            "  Downloading types_requests-2.32.0.20240712-py3-none-any.whl (15 kB)\n",
            "Requirement already satisfied: google-api-core[grpc]!=2.0.*,!=2.1.*,!=2.2.*,!=2.3.*,!=2.4.*,!=2.5.*,!=2.6.*,!=2.7.*,<3.0.0dev,>=1.34.1 in /usr/local/lib/python3.10/dist-packages (from google-cloud-aiplatform<2.0.0,>=1.26.1->embedchain) (2.19.1)\n",
            "Requirement already satisfied: google-auth<3.0.0dev,>=2.14.1 in /usr/local/lib/python3.10/dist-packages (from google-cloud-aiplatform<2.0.0,>=1.26.1->embedchain) (2.27.0)\n",
            "Requirement already satisfied: proto-plus<2.0.0dev,>=1.22.3 in /usr/local/lib/python3.10/dist-packages (from google-cloud-aiplatform<2.0.0,>=1.26.1->embedchain) (1.24.0)\n",
            "Requirement already satisfied: protobuf!=3.20.0,!=3.20.1,!=4.21.0,!=4.21.1,!=4.21.2,!=4.21.3,!=4.21.4,!=4.21.5,<5.0.0dev,>=3.19.5 in /usr/local/lib/python3.10/dist-packages (from google-cloud-aiplatform<2.0.0,>=1.26.1->embedchain) (3.20.3)\n",
            "Requirement already satisfied: google-cloud-storage<3.0.0dev,>=1.32.0 in /usr/local/lib/python3.10/dist-packages (from google-cloud-aiplatform<2.0.0,>=1.26.1->embedchain) (2.8.0)\n",
            "Requirement already satisfied: google-cloud-bigquery!=3.20.0,<4.0.0dev,>=1.15.0 in /usr/local/lib/python3.10/dist-packages (from google-cloud-aiplatform<2.0.0,>=1.26.1->embedchain) (3.25.0)\n",
            "Requirement already satisfied: google-cloud-resource-manager<3.0.0dev,>=1.3.3 in /usr/local/lib/python3.10/dist-packages (from google-cloud-aiplatform<2.0.0,>=1.26.1->embedchain) (1.12.4)\n",
            "Requirement already satisfied: shapely<3.0.0dev in /usr/local/lib/python3.10/dist-packages (from google-cloud-aiplatform<2.0.0,>=1.26.1->embedchain) (2.0.5)\n",
            "Requirement already satisfied: docstring-parser<1 in /usr/local/lib/python3.10/dist-packages (from google-cloud-aiplatform<2.0.0,>=1.26.1->embedchain) (0.16)\n",
            "Requirement already satisfied: cachetools in /usr/local/lib/python3.10/dist-packages (from gptcache<0.2.0,>=0.1.43->embedchain) (5.4.0)\n",
            "Requirement already satisfied: certifi in /usr/local/lib/python3.10/dist-packages (from httpx<1,>=0.23.0->openai) (2024.7.4)\n",
            "Requirement already satisfied: httpcore==1.* in /usr/local/lib/python3.10/dist-packages (from httpx<1,>=0.23.0->openai) (1.0.5)\n",
            "Requirement already satisfied: h11<0.15,>=0.13 in /usr/local/lib/python3.10/dist-packages (from httpcore==1.*->httpx<1,>=0.23.0->openai) (0.14.0)\n",
            "Requirement already satisfied: aiohttp<4.0.0,>=3.8.3 in /usr/local/lib/python3.10/dist-packages (from langchain<=0.3,>0.2->embedchain) (3.9.5)\n",
            "Requirement already satisfied: async-timeout<5.0.0,>=4.0.0 in /usr/local/lib/python3.10/dist-packages (from langchain<=0.3,>0.2->embedchain) (4.0.3)\n",
            "Collecting langchain-core<0.3.0,>=0.2.22 (from langchain<=0.3,>0.2->embedchain)\n",
            "  Downloading langchain_core-0.2.22-py3-none-any.whl (373 kB)\n",
            "\u001b[2K     \u001b[90m━━━━━━━━━━━━━━━━━━━━━━━━━━━━━━━━━━━━━━━━\u001b[0m \u001b[32m373.5/373.5 kB\u001b[0m \u001b[31m32.6 MB/s\u001b[0m eta \u001b[36m0:00:00\u001b[0m\n",
            "\u001b[?25hCollecting langchain-text-splitters<0.3.0,>=0.2.0 (from langchain<=0.3,>0.2->embedchain)\n",
            "  Downloading langchain_text_splitters-0.2.2-py3-none-any.whl (25 kB)\n",
            "Collecting langsmith<0.2.0,>=0.1.17 (from langchain<=0.3,>0.2->embedchain)\n",
            "  Downloading langsmith-0.1.93-py3-none-any.whl (139 kB)\n",
            "\u001b[2K     \u001b[90m━━━━━━━━━━━━━━━━━━━━━━━━━━━━━━━━━━━━━━━━\u001b[0m \u001b[32m139.8/139.8 kB\u001b[0m \u001b[31m15.6 MB/s\u001b[0m eta \u001b[36m0:00:00\u001b[0m\n",
            "\u001b[?25hCollecting langchain-experimental>=0.0.6 (from langchain-cohere<0.2.0,>=0.1.4->embedchain)\n",
            "  Downloading langchain_experimental-0.0.62-py3-none-any.whl (202 kB)\n",
            "\u001b[2K     \u001b[90m━━━━━━━━━━━━━━━━━━━━━━━━━━━━━━━━━━━━━━━━\u001b[0m \u001b[32m202.7/202.7 kB\u001b[0m \u001b[31m19.5 MB/s\u001b[0m eta \u001b[36m0:00:00\u001b[0m\n",
            "\u001b[?25hRequirement already satisfied: pandas>=1.4.3 in /usr/local/lib/python3.10/dist-packages (from langchain-cohere<0.2.0,>=0.1.4->embedchain) (2.2.2)\n",
            "Requirement already satisfied: tabulate<0.10.0,>=0.9.0 in /usr/local/lib/python3.10/dist-packages (from langchain-cohere<0.2.0,>=0.1.4->embedchain) (0.9.0)\n",
            "Collecting dataclasses-json<0.7,>=0.5.7 (from langchain-community<0.3.0,>=0.2.6->embedchain)\n",
            "  Downloading dataclasses_json-0.6.7-py3-none-any.whl (28 kB)\n",
            "Collecting groq<0.10.0,>=0.9.0 (from mem0ai<0.0.6,>=0.0.5->embedchain)\n",
            "  Downloading groq-0.9.0-py3-none-any.whl (103 kB)\n",
            "\u001b[2K     \u001b[90m━━━━━━━━━━━━━━━━━━━━━━━━━━━━━━━━━━━━━━━━\u001b[0m \u001b[32m103.5/103.5 kB\u001b[0m \u001b[31m12.2 MB/s\u001b[0m eta \u001b[36m0:00:00\u001b[0m\n",
            "\u001b[?25hCollecting qdrant-client<2.0.0,>=1.9.1 (from mem0ai<0.0.6,>=0.0.5->embedchain)\n",
            "  Downloading qdrant_client-1.10.1-py3-none-any.whl (254 kB)\n",
            "\u001b[2K     \u001b[90m━━━━━━━━━━━━━━━━━━━━━━━━━━━━━━━━━━━━━━━━\u001b[0m \u001b[32m254.1/254.1 kB\u001b[0m \u001b[31m24.7 MB/s\u001b[0m eta \u001b[36m0:00:00\u001b[0m\n",
            "\u001b[?25hCollecting together<2.0.0,>=1.2.1 (from mem0ai<0.0.6,>=0.0.5->embedchain)\n",
            "  Downloading together-1.2.2-py3-none-any.whl (61 kB)\n",
            "\u001b[2K     \u001b[90m━━━━━━━━━━━━━━━━━━━━━━━━━━━━━━━━━━━━━━━━\u001b[0m \u001b[32m61.4/61.4 kB\u001b[0m \u001b[31m6.2 MB/s\u001b[0m eta \u001b[36m0:00:00\u001b[0m\n",
            "\u001b[?25hRequirement already satisfied: six>=1.5 in /usr/local/lib/python3.10/dist-packages (from posthog<4.0.0,>=3.0.2->embedchain) (1.16.0)\n",
            "Collecting monotonic>=1.5 (from posthog<4.0.0,>=3.0.2->embedchain)\n",
            "  Downloading monotonic-1.6-py2.py3-none-any.whl (8.2 kB)\n",
            "Collecting backoff>=1.10.0 (from posthog<4.0.0,>=3.0.2->embedchain)\n",
            "  Downloading backoff-2.2.1-py3-none-any.whl (15 kB)\n",
            "Requirement already satisfied: annotated-types>=0.4.0 in /usr/local/lib/python3.10/dist-packages (from pydantic<3,>=1.9.0->openai) (0.7.0)\n",
            "Requirement already satisfied: pydantic-core==2.20.1 in /usr/local/lib/python3.10/dist-packages (from pydantic<3,>=1.9.0->openai) (2.20.1)\n",
            "Requirement already satisfied: charset-normalizer<4,>=2 in /usr/local/lib/python3.10/dist-packages (from requests->serpapi) (3.3.2)\n",
            "Requirement already satisfied: urllib3<3,>=1.21.1 in /usr/local/lib/python3.10/dist-packages (from requests->serpapi) (2.0.7)\n",
            "Requirement already satisfied: markdown-it-py>=2.2.0 in /usr/local/lib/python3.10/dist-packages (from rich<14.0.0,>=13.7.0->embedchain) (3.0.0)\n",
            "Requirement already satisfied: pygments<3.0.0,>=2.13.0 in /usr/local/lib/python3.10/dist-packages (from rich<14.0.0,>=13.7.0->embedchain) (2.16.1)\n",
            "Requirement already satisfied: greenlet!=0.4.17 in /usr/local/lib/python3.10/dist-packages (from sqlalchemy<3.0.0,>=2.0.27->embedchain) (3.0.3)\n",
            "Requirement already satisfied: regex>=2022.1.18 in /usr/local/lib/python3.10/dist-packages (from tiktoken<0.8.0,>=0.7.0->embedchain) (2024.5.15)\n",
            "Requirement already satisfied: aiosignal>=1.1.2 in /usr/local/lib/python3.10/dist-packages (from aiohttp<4.0.0,>=3.8.3->langchain<=0.3,>0.2->embedchain) (1.3.1)\n",
            "Requirement already satisfied: attrs>=17.3.0 in /usr/local/lib/python3.10/dist-packages (from aiohttp<4.0.0,>=3.8.3->langchain<=0.3,>0.2->embedchain) (23.2.0)\n",
            "Requirement already satisfied: frozenlist>=1.1.1 in /usr/local/lib/python3.10/dist-packages (from aiohttp<4.0.0,>=3.8.3->langchain<=0.3,>0.2->embedchain) (1.4.1)\n",
            "Requirement already satisfied: multidict<7.0,>=4.5 in /usr/local/lib/python3.10/dist-packages (from aiohttp<4.0.0,>=3.8.3->langchain<=0.3,>0.2->embedchain) (6.0.5)\n",
            "Requirement already satisfied: yarl<2.0,>=1.0 in /usr/local/lib/python3.10/dist-packages (from aiohttp<4.0.0,>=3.8.3->langchain<=0.3,>0.2->embedchain) (1.9.4)\n",
            "Collecting botocore<1.35.0,>=1.34.146 (from boto3<2.0.0,>=1.34.0->cohere<6.0,>=5.3->embedchain)\n",
            "  Downloading botocore-1.34.146-py3-none-any.whl (12.4 MB)\n",
            "\u001b[2K     \u001b[90m━━━━━━━━━━━━━━━━━━━━━━━━━━━━━━━━━━━━━━━━\u001b[0m \u001b[32m12.4/12.4 MB\u001b[0m \u001b[31m75.0 MB/s\u001b[0m eta \u001b[36m0:00:00\u001b[0m\n",
            "\u001b[?25hCollecting jmespath<2.0.0,>=0.7.1 (from boto3<2.0.0,>=1.34.0->cohere<6.0,>=5.3->embedchain)\n",
            "  Downloading jmespath-1.0.1-py3-none-any.whl (20 kB)\n",
            "Collecting s3transfer<0.11.0,>=0.10.0 (from boto3<2.0.0,>=1.34.0->cohere<6.0,>=5.3->embedchain)\n",
            "  Downloading s3transfer-0.10.2-py3-none-any.whl (82 kB)\n",
            "\u001b[2K     \u001b[90m━━━━━━━━━━━━━━━━━━━━━━━━━━━━━━━━━━━━━━━━\u001b[0m \u001b[32m82.7/82.7 kB\u001b[0m \u001b[31m8.5 MB/s\u001b[0m eta \u001b[36m0:00:00\u001b[0m\n",
            "\u001b[?25hRequirement already satisfied: pyproject_hooks in /usr/local/lib/python3.10/dist-packages (from build>=1.0.3->chromadb<0.5.0,>=0.4.24->embedchain) (1.1.0)\n",
            "Requirement already satisfied: tomli>=1.1.0 in /usr/local/lib/python3.10/dist-packages (from build>=1.0.3->chromadb<0.5.0,>=0.4.24->embedchain) (2.0.1)\n",
            "Collecting marshmallow<4.0.0,>=3.18.0 (from dataclasses-json<0.7,>=0.5.7->langchain-community<0.3.0,>=0.2.6->embedchain)\n",
            "  Downloading marshmallow-3.21.3-py3-none-any.whl (49 kB)\n",
            "\u001b[2K     \u001b[90m━━━━━━━━━━━━━━━━━━━━━━━━━━━━━━━━━━━━━━━━\u001b[0m \u001b[32m49.2/49.2 kB\u001b[0m \u001b[31m4.9 MB/s\u001b[0m eta \u001b[36m0:00:00\u001b[0m\n",
            "\u001b[?25hCollecting typing-inspect<1,>=0.4.0 (from dataclasses-json<0.7,>=0.5.7->langchain-community<0.3.0,>=0.2.6->embedchain)\n",
            "  Downloading typing_inspect-0.9.0-py3-none-any.whl (8.8 kB)\n",
            "Collecting starlette<0.38.0,>=0.37.2 (from fastapi>=0.95.2->chromadb<0.5.0,>=0.4.24->embedchain)\n",
            "  Downloading starlette-0.37.2-py3-none-any.whl (71 kB)\n",
            "\u001b[2K     \u001b[90m━━━━━━━━━━━━━━━━━━━━━━━━━━━━━━━━━━━━━━━━\u001b[0m \u001b[32m71.9/71.9 kB\u001b[0m \u001b[31m9.0 MB/s\u001b[0m eta \u001b[36m0:00:00\u001b[0m\n",
            "\u001b[?25hCollecting fastapi-cli>=0.0.2 (from fastapi>=0.95.2->chromadb<0.5.0,>=0.4.24->embedchain)\n",
            "  Downloading fastapi_cli-0.0.4-py3-none-any.whl (9.5 kB)\n",
            "Requirement already satisfied: jinja2>=2.11.2 in /usr/local/lib/python3.10/dist-packages (from fastapi>=0.95.2->chromadb<0.5.0,>=0.4.24->embedchain) (3.1.4)\n",
            "Collecting python-multipart>=0.0.7 (from fastapi>=0.95.2->chromadb<0.5.0,>=0.4.24->embedchain)\n",
            "  Downloading python_multipart-0.0.9-py3-none-any.whl (22 kB)\n",
            "Collecting email_validator>=2.0.0 (from fastapi>=0.95.2->chromadb<0.5.0,>=0.4.24->embedchain)\n",
            "  Downloading email_validator-2.2.0-py3-none-any.whl (33 kB)\n",
            "Requirement already satisfied: googleapis-common-protos<2.0.dev0,>=1.56.2 in /usr/local/lib/python3.10/dist-packages (from google-api-core[grpc]!=2.0.*,!=2.1.*,!=2.2.*,!=2.3.*,!=2.4.*,!=2.5.*,!=2.6.*,!=2.7.*,<3.0.0dev,>=1.34.1->google-cloud-aiplatform<2.0.0,>=1.26.1->embedchain) (1.63.2)\n",
            "Requirement already satisfied: grpcio-status<2.0.dev0,>=1.33.2 in /usr/local/lib/python3.10/dist-packages (from google-api-core[grpc]!=2.0.*,!=2.1.*,!=2.2.*,!=2.3.*,!=2.4.*,!=2.5.*,!=2.6.*,!=2.7.*,<3.0.0dev,>=1.34.1->google-cloud-aiplatform<2.0.0,>=1.26.1->embedchain) (1.48.2)\n",
            "Requirement already satisfied: pyasn1-modules>=0.2.1 in /usr/local/lib/python3.10/dist-packages (from google-auth<3.0.0dev,>=2.14.1->google-cloud-aiplatform<2.0.0,>=1.26.1->embedchain) (0.4.0)\n",
            "Requirement already satisfied: rsa<5,>=3.1.4 in /usr/local/lib/python3.10/dist-packages (from google-auth<3.0.0dev,>=2.14.1->google-cloud-aiplatform<2.0.0,>=1.26.1->embedchain) (4.9)\n",
            "Requirement already satisfied: google-cloud-core<3.0.0dev,>=1.6.0 in /usr/local/lib/python3.10/dist-packages (from google-cloud-bigquery!=3.20.0,<4.0.0dev,>=1.15.0->google-cloud-aiplatform<2.0.0,>=1.26.1->embedchain) (2.4.1)\n",
            "Requirement already satisfied: google-resumable-media<3.0dev,>=0.6.0 in /usr/local/lib/python3.10/dist-packages (from google-cloud-bigquery!=3.20.0,<4.0.0dev,>=1.15.0->google-cloud-aiplatform<2.0.0,>=1.26.1->embedchain) (2.7.1)\n",
            "Requirement already satisfied: grpc-google-iam-v1<1.0.0dev,>=0.12.4 in /usr/local/lib/python3.10/dist-packages (from google-cloud-resource-manager<3.0.0dev,>=1.3.3->google-cloud-aiplatform<2.0.0,>=1.26.1->embedchain) (0.13.1)\n",
            "Requirement already satisfied: websocket-client!=0.40.0,!=0.41.*,!=0.42.*,>=0.32.0 in /usr/local/lib/python3.10/dist-packages (from kubernetes>=28.1.0->chromadb<0.5.0,>=0.4.24->embedchain) (1.8.0)\n",
            "Requirement already satisfied: requests-oauthlib in /usr/local/lib/python3.10/dist-packages (from kubernetes>=28.1.0->chromadb<0.5.0,>=0.4.24->embedchain) (1.3.1)\n",
            "Requirement already satisfied: oauthlib>=3.2.2 in /usr/local/lib/python3.10/dist-packages (from kubernetes>=28.1.0->chromadb<0.5.0,>=0.4.24->embedchain) (3.2.2)\n",
            "Collecting jsonpatch<2.0,>=1.33 (from langchain-core<0.3.0,>=0.2.22->langchain<=0.3,>0.2->embedchain)\n",
            "  Downloading jsonpatch-1.33-py2.py3-none-any.whl (12 kB)\n",
            "Requirement already satisfied: mdurl~=0.1 in /usr/local/lib/python3.10/dist-packages (from markdown-it-py>=2.2.0->rich<14.0.0,>=13.7.0->embedchain) (0.1.2)\n",
            "Collecting coloredlogs (from onnxruntime>=1.14.1->chromadb<0.5.0,>=0.4.24->embedchain)\n",
            "  Downloading coloredlogs-15.0.1-py2.py3-none-any.whl (46 kB)\n",
            "\u001b[2K     \u001b[90m━━━━━━━━━━━━━━━━━━━━━━━━━━━━━━━━━━━━━━━━\u001b[0m \u001b[32m46.0/46.0 kB\u001b[0m \u001b[31m4.9 MB/s\u001b[0m eta \u001b[36m0:00:00\u001b[0m\n",
            "\u001b[?25hRequirement already satisfied: flatbuffers in /usr/local/lib/python3.10/dist-packages (from onnxruntime>=1.14.1->chromadb<0.5.0,>=0.4.24->embedchain) (24.3.25)\n",
            "Requirement already satisfied: sympy in /usr/local/lib/python3.10/dist-packages (from onnxruntime>=1.14.1->chromadb<0.5.0,>=0.4.24->embedchain) (1.13.0)\n",
            "Collecting deprecated>=1.2.6 (from opentelemetry-api>=1.2.0->chromadb<0.5.0,>=0.4.24->embedchain)\n",
            "  Downloading Deprecated-1.2.14-py2.py3-none-any.whl (9.6 kB)\n",
            "Collecting importlib-metadata<=7.1,>=6.0 (from opentelemetry-api>=1.2.0->chromadb<0.5.0,>=0.4.24->embedchain)\n",
            "  Downloading importlib_metadata-7.1.0-py3-none-any.whl (24 kB)\n",
            "Collecting opentelemetry-exporter-otlp-proto-common==1.25.0 (from opentelemetry-exporter-otlp-proto-grpc>=1.2.0->chromadb<0.5.0,>=0.4.24->embedchain)\n",
            "  Downloading opentelemetry_exporter_otlp_proto_common-1.25.0-py3-none-any.whl (17 kB)\n",
            "Collecting opentelemetry-proto==1.25.0 (from opentelemetry-exporter-otlp-proto-grpc>=1.2.0->chromadb<0.5.0,>=0.4.24->embedchain)\n",
            "  Downloading opentelemetry_proto-1.25.0-py3-none-any.whl (52 kB)\n",
            "\u001b[2K     \u001b[90m━━━━━━━━━━━━━━━━━━━━━━━━━━━━━━━━━━━━━━━━\u001b[0m \u001b[32m52.5/52.5 kB\u001b[0m \u001b[31m5.7 MB/s\u001b[0m eta \u001b[36m0:00:00\u001b[0m\n",
            "\u001b[?25hCollecting opentelemetry-instrumentation-asgi==0.46b0 (from opentelemetry-instrumentation-fastapi>=0.41b0->chromadb<0.5.0,>=0.4.24->embedchain)\n",
            "  Downloading opentelemetry_instrumentation_asgi-0.46b0-py3-none-any.whl (14 kB)\n",
            "Collecting opentelemetry-instrumentation==0.46b0 (from opentelemetry-instrumentation-fastapi>=0.41b0->chromadb<0.5.0,>=0.4.24->embedchain)\n",
            "  Downloading opentelemetry_instrumentation-0.46b0-py3-none-any.whl (29 kB)\n",
            "Collecting opentelemetry-semantic-conventions==0.46b0 (from opentelemetry-instrumentation-fastapi>=0.41b0->chromadb<0.5.0,>=0.4.24->embedchain)\n",
            "  Downloading opentelemetry_semantic_conventions-0.46b0-py3-none-any.whl (130 kB)\n",
            "\u001b[2K     \u001b[90m━━━━━━━━━━━━━━━━━━━━━━━━━━━━━━━━━━━━━━━━\u001b[0m \u001b[32m130.5/130.5 kB\u001b[0m \u001b[31m12.1 MB/s\u001b[0m eta \u001b[36m0:00:00\u001b[0m\n",
            "\u001b[?25hCollecting opentelemetry-util-http==0.46b0 (from opentelemetry-instrumentation-fastapi>=0.41b0->chromadb<0.5.0,>=0.4.24->embedchain)\n",
            "  Downloading opentelemetry_util_http-0.46b0-py3-none-any.whl (6.9 kB)\n",
            "Requirement already satisfied: setuptools>=16.0 in /usr/local/lib/python3.10/dist-packages (from opentelemetry-instrumentation==0.46b0->opentelemetry-instrumentation-fastapi>=0.41b0->chromadb<0.5.0,>=0.4.24->embedchain) (67.7.2)\n",
            "Requirement already satisfied: wrapt<2.0.0,>=1.0.0 in /usr/local/lib/python3.10/dist-packages (from opentelemetry-instrumentation==0.46b0->opentelemetry-instrumentation-fastapi>=0.41b0->chromadb<0.5.0,>=0.4.24->embedchain) (1.14.1)\n",
            "Collecting asgiref~=3.0 (from opentelemetry-instrumentation-asgi==0.46b0->opentelemetry-instrumentation-fastapi>=0.41b0->chromadb<0.5.0,>=0.4.24->embedchain)\n",
            "  Downloading asgiref-3.8.1-py3-none-any.whl (23 kB)\n",
            "Requirement already satisfied: pytz>=2020.1 in /usr/local/lib/python3.10/dist-packages (from pandas>=1.4.3->langchain-cohere<0.2.0,>=0.1.4->embedchain) (2023.4)\n",
            "Requirement already satisfied: tzdata>=2022.7 in /usr/local/lib/python3.10/dist-packages (from pandas>=1.4.3->langchain-cohere<0.2.0,>=0.1.4->embedchain) (2024.1)\n",
            "Collecting grpcio-tools>=1.41.0 (from qdrant-client<2.0.0,>=1.9.1->mem0ai<0.0.6,>=0.0.5->embedchain)\n",
            "  Downloading grpcio_tools-1.65.1-cp310-cp310-manylinux_2_17_x86_64.manylinux2014_x86_64.whl (2.3 MB)\n",
            "\u001b[2K     \u001b[90m━━━━━━━━━━━━━━━━━━━━━━━━━━━━━━━━━━━━━━━━\u001b[0m \u001b[32m2.3/2.3 MB\u001b[0m \u001b[31m33.6 MB/s\u001b[0m eta \u001b[36m0:00:00\u001b[0m\n",
            "\u001b[?25hCollecting portalocker<3.0.0,>=2.7.0 (from qdrant-client<2.0.0,>=1.9.1->mem0ai<0.0.6,>=0.0.5->embedchain)\n",
            "  Downloading portalocker-2.10.1-py3-none-any.whl (18 kB)\n",
            "Requirement already satisfied: click<9.0.0,>=8.1.7 in /usr/local/lib/python3.10/dist-packages (from together<2.0.0,>=1.2.1->mem0ai<0.0.6,>=0.0.5->embedchain) (8.1.7)\n",
            "Collecting eval-type-backport<0.3.0,>=0.1.3 (from together<2.0.0,>=1.2.1->mem0ai<0.0.6,>=0.0.5->embedchain)\n",
            "  Downloading eval_type_backport-0.2.0-py3-none-any.whl (5.9 kB)\n",
            "Requirement already satisfied: filelock<4.0.0,>=3.13.1 in /usr/local/lib/python3.10/dist-packages (from together<2.0.0,>=1.2.1->mem0ai<0.0.6,>=0.0.5->embedchain) (3.15.4)\n",
            "Collecting pillow>=8 (from matplotlib)\n",
            "  Downloading pillow-10.4.0-cp310-cp310-manylinux_2_28_x86_64.whl (4.5 MB)\n",
            "\u001b[2K     \u001b[90m━━━━━━━━━━━━━━━━━━━━━━━━━━━━━━━━━━━━━━━━\u001b[0m \u001b[32m4.5/4.5 MB\u001b[0m \u001b[31m85.4 MB/s\u001b[0m eta \u001b[36m0:00:00\u001b[0m\n",
            "\u001b[?25hRequirement already satisfied: pyarrow>=10.0.1 in /usr/local/lib/python3.10/dist-packages (from together<2.0.0,>=1.2.1->mem0ai<0.0.6,>=0.0.5->embedchain) (14.0.2)\n",
            "Requirement already satisfied: huggingface-hub<1.0,>=0.16.4 in /usr/local/lib/python3.10/dist-packages (from tokenizers>=0.13.2->chromadb<0.5.0,>=0.4.24->embedchain) (0.23.5)\n",
            "Requirement already satisfied: shellingham>=1.3.0 in /usr/local/lib/python3.10/dist-packages (from typer>=0.9.0->chromadb<0.5.0,>=0.4.24->embedchain) (1.5.4)\n",
            "Collecting httptools>=0.5.0 (from uvicorn[standard]>=0.18.3->chromadb<0.5.0,>=0.4.24->embedchain)\n",
            "  Downloading httptools-0.6.1-cp310-cp310-manylinux_2_5_x86_64.manylinux1_x86_64.manylinux_2_17_x86_64.manylinux2014_x86_64.whl (341 kB)\n",
            "\u001b[2K     \u001b[90m━━━━━━━━━━━━━━━━━━━━━━━━━━━━━━━━━━━━━━━━\u001b[0m \u001b[32m341.4/341.4 kB\u001b[0m \u001b[31m34.9 MB/s\u001b[0m eta \u001b[36m0:00:00\u001b[0m\n",
            "\u001b[?25hCollecting uvloop!=0.15.0,!=0.15.1,>=0.14.0 (from uvicorn[standard]>=0.18.3->chromadb<0.5.0,>=0.4.24->embedchain)\n",
            "  Downloading uvloop-0.19.0-cp310-cp310-manylinux_2_17_x86_64.manylinux2014_x86_64.whl (3.4 MB)\n",
            "\u001b[2K     \u001b[90m━━━━━━━━━━━━━━━━━━━━━━━━━━━━━━━━━━━━━━━━\u001b[0m \u001b[32m3.4/3.4 MB\u001b[0m \u001b[31m88.5 MB/s\u001b[0m eta \u001b[36m0:00:00\u001b[0m\n",
            "\u001b[?25hCollecting watchfiles>=0.13 (from uvicorn[standard]>=0.18.3->chromadb<0.5.0,>=0.4.24->embedchain)\n",
            "  Downloading watchfiles-0.22.0-cp310-cp310-manylinux_2_17_x86_64.manylinux2014_x86_64.whl (1.2 MB)\n",
            "\u001b[2K     \u001b[90m━━━━━━━━━━━━━━━━━━━━━━━━━━━━━━━━━━━━━━━━\u001b[0m \u001b[32m1.2/1.2 MB\u001b[0m \u001b[31m48.7 MB/s\u001b[0m eta \u001b[36m0:00:00\u001b[0m\n",
            "\u001b[?25hCollecting websockets>=10.4 (from uvicorn[standard]>=0.18.3->chromadb<0.5.0,>=0.4.24->embedchain)\n",
            "  Downloading websockets-12.0-cp310-cp310-manylinux_2_5_x86_64.manylinux1_x86_64.manylinux_2_17_x86_64.manylinux2014_x86_64.whl (130 kB)\n",
            "\u001b[2K     \u001b[90m━━━━━━━━━━━━━━━━━━━━━━━━━━━━━━━━━━━━━━━━\u001b[0m \u001b[32m130.2/130.2 kB\u001b[0m \u001b[31m14.2 MB/s\u001b[0m eta \u001b[36m0:00:00\u001b[0m\n",
            "\u001b[?25hRequirement already satisfied: MarkupSafe>=0.9.2 in /usr/local/lib/python3.10/dist-packages (from Mako->alembic<2.0.0,>=1.13.1->embedchain) (2.1.5)\n",
            "Collecting dnspython>=2.0.0 (from email_validator>=2.0.0->fastapi>=0.95.2->chromadb<0.5.0,>=0.4.24->embedchain)\n",
            "  Downloading dnspython-2.6.1-py3-none-any.whl (307 kB)\n",
            "\u001b[2K     \u001b[90m━━━━━━━━━━━━━━━━━━━━━━━━━━━━━━━━━━━━━━━━\u001b[0m \u001b[32m307.7/307.7 kB\u001b[0m \u001b[31m27.5 MB/s\u001b[0m eta \u001b[36m0:00:00\u001b[0m\n",
            "\u001b[?25hRequirement already satisfied: google-crc32c<2.0dev,>=1.0 in /usr/local/lib/python3.10/dist-packages (from google-resumable-media<3.0dev,>=0.6.0->google-cloud-bigquery!=3.20.0,<4.0.0dev,>=1.15.0->google-cloud-aiplatform<2.0.0,>=1.26.1->embedchain) (1.5.0)\n",
            "INFO: pip is looking at multiple versions of grpcio-tools to determine which version is compatible with other requirements. This could take a while.\n",
            "Collecting grpcio-tools>=1.41.0 (from qdrant-client<2.0.0,>=1.9.1->mem0ai<0.0.6,>=0.0.5->embedchain)\n",
            "  Downloading grpcio_tools-1.64.1-cp310-cp310-manylinux_2_17_x86_64.manylinux2014_x86_64.whl (2.3 MB)\n",
            "\u001b[2K     \u001b[90m━━━━━━━━━━━━━━━━━━━━━━━━━━━━━━━━━━━━━━━━\u001b[0m \u001b[32m2.3/2.3 MB\u001b[0m \u001b[31m73.8 MB/s\u001b[0m eta \u001b[36m0:00:00\u001b[0m\n",
            "\u001b[?25h  Downloading grpcio_tools-1.64.0-cp310-cp310-manylinux_2_17_x86_64.manylinux2014_x86_64.whl (2.3 MB)\n",
            "\u001b[2K     \u001b[90m━━━━━━━━━━━━━━━━━━━━━━━━━━━━━━━━━━━━━━━━\u001b[0m \u001b[32m2.3/2.3 MB\u001b[0m \u001b[31m73.0 MB/s\u001b[0m eta \u001b[36m0:00:00\u001b[0m\n",
            "\u001b[?25h  Downloading grpcio_tools-1.63.0-cp310-cp310-manylinux_2_17_x86_64.manylinux2014_x86_64.whl (2.3 MB)\n",
            "\u001b[2K     \u001b[90m━━━━━━━━━━━━━━━━━━━━━━━━━━━━━━━━━━━━━━━━\u001b[0m \u001b[32m2.3/2.3 MB\u001b[0m \u001b[31m69.2 MB/s\u001b[0m eta \u001b[36m0:00:00\u001b[0m\n",
            "\u001b[?25h  Downloading grpcio_tools-1.62.2-cp310-cp310-manylinux_2_17_x86_64.manylinux2014_x86_64.whl (2.8 MB)\n",
            "\u001b[2K     \u001b[90m━━━━━━━━━━━━━━━━━━━━━━━━━━━━━━━━━━━━━━━━\u001b[0m \u001b[32m2.8/2.8 MB\u001b[0m \u001b[31m68.5 MB/s\u001b[0m eta \u001b[36m0:00:00\u001b[0m\n",
            "\u001b[?25hCollecting protobuf!=3.20.0,!=3.20.1,!=4.21.0,!=4.21.1,!=4.21.2,!=4.21.3,!=4.21.4,!=4.21.5,<5.0.0dev,>=3.19.5 (from google-cloud-aiplatform<2.0.0,>=1.26.1->embedchain)\n",
            "  Downloading protobuf-4.25.3-cp37-abi3-manylinux2014_x86_64.whl (294 kB)\n",
            "\u001b[2K     \u001b[90m━━━━━━━━━━━━━━━━━━━━━━━━━━━━━━━━━━━━━━━━\u001b[0m \u001b[32m294.6/294.6 kB\u001b[0m \u001b[31m26.5 MB/s\u001b[0m eta \u001b[36m0:00:00\u001b[0m\n",
            "\u001b[?25hCollecting h2<5,>=3 (from httpx<1,>=0.23.0->openai)\n",
            "  Downloading h2-4.1.0-py3-none-any.whl (57 kB)\n",
            "\u001b[2K     \u001b[90m━━━━━━━━━━━━━━━━━━━━━━━━━━━━━━━━━━━━━━━━\u001b[0m \u001b[32m57.5/57.5 kB\u001b[0m \u001b[31m6.4 MB/s\u001b[0m eta \u001b[36m0:00:00\u001b[0m\n",
            "\u001b[?25hRequirement already satisfied: fsspec>=2023.5.0 in /usr/local/lib/python3.10/dist-packages (from huggingface-hub<1.0,>=0.16.4->tokenizers>=0.13.2->chromadb<0.5.0,>=0.4.24->embedchain) (2023.6.0)\n",
            "Requirement already satisfied: zipp>=0.5 in /usr/local/lib/python3.10/dist-packages (from importlib-metadata<=7.1,>=6.0->opentelemetry-api>=1.2.0->chromadb<0.5.0,>=0.4.24->embedchain) (3.19.2)\n",
            "Collecting jsonpointer>=1.9 (from jsonpatch<2.0,>=1.33->langchain-core<0.3.0,>=0.2.22->langchain<=0.3,>0.2->embedchain)\n",
            "  Downloading jsonpointer-3.0.0-py2.py3-none-any.whl (7.6 kB)\n",
            "Requirement already satisfied: pyasn1<0.7.0,>=0.4.6 in /usr/local/lib/python3.10/dist-packages (from pyasn1-modules>=0.2.1->google-auth<3.0.0dev,>=2.14.1->google-cloud-aiplatform<2.0.0,>=1.26.1->embedchain) (0.6.0)\n",
            "Collecting mypy-extensions>=0.3.0 (from typing-inspect<1,>=0.4.0->dataclasses-json<0.7,>=0.5.7->langchain-community<0.3.0,>=0.2.6->embedchain)\n",
            "  Downloading mypy_extensions-1.0.0-py3-none-any.whl (4.7 kB)\n",
            "Collecting humanfriendly>=9.1 (from coloredlogs->onnxruntime>=1.14.1->chromadb<0.5.0,>=0.4.24->embedchain)\n",
            "  Downloading humanfriendly-10.0-py2.py3-none-any.whl (86 kB)\n",
            "\u001b[2K     \u001b[90m━━━━━━━━━━━━━━━━━━━━━━━━━━━━━━━━━━━━━━━━\u001b[0m \u001b[32m86.8/86.8 kB\u001b[0m \u001b[31m9.7 MB/s\u001b[0m eta \u001b[36m0:00:00\u001b[0m\n",
            "\u001b[?25hRequirement already satisfied: mpmath<1.4,>=1.1.0 in /usr/local/lib/python3.10/dist-packages (from sympy->onnxruntime>=1.14.1->chromadb<0.5.0,>=0.4.24->embedchain) (1.3.0)\n",
            "Collecting hyperframe<7,>=6.0 (from h2<5,>=3->httpx<1,>=0.23.0->openai)\n",
            "  Downloading hyperframe-6.0.1-py3-none-any.whl (12 kB)\n",
            "Collecting hpack<5,>=4.0 (from h2<5,>=3->httpx<1,>=0.23.0->openai)\n",
            "  Downloading hpack-4.0.0-py3-none-any.whl (32 kB)\n",
            "Building wheels for collected packages: pypika\n",
            "  Building wheel for pypika (pyproject.toml) ... \u001b[?25l\u001b[?25hdone\n",
            "  Created wheel for pypika: filename=PyPika-0.48.9-py2.py3-none-any.whl size=53724 sha256=ecea48500b5b9eb6fa7a6bd37ebdfa218cffc7e73c668deb7cf8be9054a72d73\n",
            "  Stored in directory: /root/.cache/pip/wheels/e1/26/51/d0bffb3d2fd82256676d7ad3003faea3bd6dddc9577af665f4\n",
            "Successfully built pypika\n",
            "Installing collected packages: schema, pypika, monotonic, mmh3, websockets, uvloop, uvicorn, types-requests, python-multipart, python-dotenv, pysbd, pypdf, pulsar-client, protobuf, portalocker, pillow, parameterized, overrides, orjson, opentelemetry-util-http, mypy-extensions, marshmallow, Mako, jsonpointer, jmespath, importlib-metadata, hyperframe, humanfriendly, httpx-sse, httptools, hpack, fastavro, eval-type-backport, dnspython, deprecated, chroma-hnswlib, bcrypt, backoff, asgiref, watchfiles, typing-inspect, tiktoken, starlette, posthog, opentelemetry-proto, opentelemetry-api, jsonpatch, h2, grpcio-tools, gptcache, email_validator, coloredlogs, botocore, alembic, s3transfer, opentelemetry-semantic-conventions, opentelemetry-instrumentation, opentelemetry-exporter-otlp-proto-common, onnxruntime, langsmith, kubernetes, groq, dataclasses-json, together, qdrant-client, opentelemetry-sdk, opentelemetry-instrumentation-asgi, langchain-core, fastapi-cli, boto3, opentelemetry-instrumentation-fastapi, opentelemetry-exporter-otlp-proto-grpc, mem0ai, langchain-text-splitters, langchain-openai, fastapi, cohere, langchain, chromadb, langchain-community, langchain-experimental, langchain-cohere, embedchain\n",
            "  Attempting uninstall: protobuf\n",
            "    Found existing installation: protobuf 3.20.3\n",
            "    Uninstalling protobuf-3.20.3:\n",
            "      Successfully uninstalled protobuf-3.20.3\n",
            "  Attempting uninstall: pillow\n",
            "    Found existing installation: Pillow 9.4.0\n",
            "    Uninstalling Pillow-9.4.0:\n",
            "      Successfully uninstalled Pillow-9.4.0\n",
            "  Attempting uninstall: importlib-metadata\n",
            "    Found existing installation: importlib_metadata 8.0.0\n",
            "    Uninstalling importlib_metadata-8.0.0:\n",
            "      Successfully uninstalled importlib_metadata-8.0.0\n",
            "\u001b[31mERROR: pip's dependency resolver does not currently take into account all the packages that are installed. This behaviour is the source of the following dependency conflicts.\n",
            "cudf-cu12 24.4.1 requires pandas<2.2.2dev0,>=2.0, but you have pandas 2.2.2 which is incompatible.\n",
            "imageio 2.31.6 requires pillow<10.1.0,>=8.3.2, but you have pillow 10.4.0 which is incompatible.\n",
            "tensorflow-metadata 1.15.0 requires protobuf<4.21,>=3.20.3; python_version < \"3.11\", but you have protobuf 4.25.3 which is incompatible.\u001b[0m\u001b[31m\n",
            "\u001b[0mSuccessfully installed Mako-1.3.5 alembic-1.13.2 asgiref-3.8.1 backoff-2.2.1 bcrypt-4.2.0 boto3-1.34.146 botocore-1.34.146 chroma-hnswlib-0.7.3 chromadb-0.4.24 cohere-5.6.2 coloredlogs-15.0.1 dataclasses-json-0.6.7 deprecated-1.2.14 dnspython-2.6.1 email_validator-2.2.0 embedchain-0.1.118 eval-type-backport-0.2.0 fastapi-0.111.1 fastapi-cli-0.0.4 fastavro-1.9.5 gptcache-0.1.43 groq-0.9.0 grpcio-tools-1.62.2 h2-4.1.0 hpack-4.0.0 httptools-0.6.1 httpx-sse-0.4.0 humanfriendly-10.0 hyperframe-6.0.1 importlib-metadata-7.1.0 jmespath-1.0.1 jsonpatch-1.33 jsonpointer-3.0.0 kubernetes-30.1.0 langchain-0.2.10 langchain-cohere-0.1.9 langchain-community-0.2.9 langchain-core-0.2.22 langchain-experimental-0.0.62 langchain-openai-0.1.17 langchain-text-splitters-0.2.2 langsmith-0.1.93 marshmallow-3.21.3 mem0ai-0.0.5 mmh3-4.1.0 monotonic-1.6 mypy-extensions-1.0.0 onnxruntime-1.18.1 opentelemetry-api-1.25.0 opentelemetry-exporter-otlp-proto-common-1.25.0 opentelemetry-exporter-otlp-proto-grpc-1.25.0 opentelemetry-instrumentation-0.46b0 opentelemetry-instrumentation-asgi-0.46b0 opentelemetry-instrumentation-fastapi-0.46b0 opentelemetry-proto-1.25.0 opentelemetry-sdk-1.25.0 opentelemetry-semantic-conventions-0.46b0 opentelemetry-util-http-0.46b0 orjson-3.10.6 overrides-7.7.0 parameterized-0.9.0 pillow-10.4.0 portalocker-2.10.1 posthog-3.5.0 protobuf-4.25.3 pulsar-client-3.5.0 pypdf-4.3.1 pypika-0.48.9 pysbd-0.3.4 python-dotenv-1.0.1 python-multipart-0.0.9 qdrant-client-1.10.1 s3transfer-0.10.2 schema-0.7.7 starlette-0.37.2 tiktoken-0.7.0 together-1.2.2 types-requests-2.32.0.20240712 typing-inspect-0.9.0 uvicorn-0.30.3 uvloop-0.19.0 watchfiles-0.22.0 websockets-12.0\n"
          ]
        },
        {
          "data": {
            "application/vnd.colab-display-data+json": {
              "id": "e52186d4aaff4569918e3797c391a4b7",
              "pip_warning": {
                "packages": [
                  "PIL"
                ]
              }
            }
          },
          "metadata": {},
          "output_type": "display_data"
        }
      ],
      "source": [
        "!pip install openai embedchain serpapi google-search-results matplotlib gradio==\"3.45.0\""
      ]
    },
    {
      "cell_type": "code",
      "execution_count": null,
      "metadata": {
        "colab": {
          "base_uri": "https://localhost:8080/"
        },
        "id": "GgAbCoj_Pql2",
        "outputId": "8b296c22-f825-4171-b3f6-62ea2228973c"
      },
      "outputs": [
        {
          "name": "stdout",
          "output_type": "stream",
          "text": [
            "Collecting flask_ngrok\n",
            "  Downloading flask_ngrok-0.0.25-py3-none-any.whl (3.1 kB)\n",
            "Collecting pyngrok\n",
            "  Downloading pyngrok-7.2.0-py3-none-any.whl (22 kB)\n",
            "Requirement already satisfied: flask in /usr/local/lib/python3.10/dist-packages (2.2.5)\n",
            "Requirement already satisfied: requests in /usr/local/lib/python3.10/dist-packages (from flask_ngrok) (2.31.0)\n",
            "Requirement already satisfied: PyYAML>=5.1 in /usr/local/lib/python3.10/dist-packages (from pyngrok) (6.0.1)\n",
            "Requirement already satisfied: Werkzeug>=2.2.2 in /usr/local/lib/python3.10/dist-packages (from flask) (3.0.3)\n",
            "Requirement already satisfied: Jinja2>=3.0 in /usr/local/lib/python3.10/dist-packages (from flask) (3.1.4)\n",
            "Requirement already satisfied: itsdangerous>=2.0 in /usr/local/lib/python3.10/dist-packages (from flask) (2.2.0)\n",
            "Requirement already satisfied: click>=8.0 in /usr/local/lib/python3.10/dist-packages (from flask) (8.1.7)\n",
            "Requirement already satisfied: MarkupSafe>=2.0 in /usr/local/lib/python3.10/dist-packages (from Jinja2>=3.0->flask) (2.1.5)\n",
            "Requirement already satisfied: charset-normalizer<4,>=2 in /usr/local/lib/python3.10/dist-packages (from requests->flask_ngrok) (3.3.2)\n",
            "Requirement already satisfied: idna<4,>=2.5 in /usr/local/lib/python3.10/dist-packages (from requests->flask_ngrok) (3.7)\n",
            "Requirement already satisfied: urllib3<3,>=1.21.1 in /usr/local/lib/python3.10/dist-packages (from requests->flask_ngrok) (2.0.7)\n",
            "Requirement already satisfied: certifi>=2017.4.17 in /usr/local/lib/python3.10/dist-packages (from requests->flask_ngrok) (2024.7.4)\n",
            "Installing collected packages: pyngrok, flask_ngrok\n",
            "Successfully installed flask_ngrok-0.0.25 pyngrok-7.2.0\n"
          ]
        }
      ],
      "source": [
        "!pip install flask_ngrok pyngrok flask"
      ]
    },
    {
      "cell_type": "code",
      "execution_count": null,
      "metadata": {
        "colab": {
          "base_uri": "https://localhost:8080/"
        },
        "id": "DkEOn-rTPgoE",
        "outputId": "214f6fb5-4468-441d-9997-896435eb4fbf"
      },
      "outputs": [
        {
          "name": "stdout",
          "output_type": "stream",
          "text": [
            "Collecting selenium\n",
            "  Downloading selenium-4.23.0-py3-none-any.whl (9.4 MB)\n",
            "\u001b[2K     \u001b[90m━━━━━━━━━━━━━━━━━━━━━━━━━━━━━━━━━━━━━━━━\u001b[0m \u001b[32m9.4/9.4 MB\u001b[0m \u001b[31m50.8 MB/s\u001b[0m eta \u001b[36m0:00:00\u001b[0m\n",
            "\u001b[?25hCollecting fuzzywuzzy\n",
            "  Downloading fuzzywuzzy-0.18.0-py2.py3-none-any.whl (18 kB)\n",
            "Requirement already satisfied: urllib3[socks]<3,>=1.26 in /usr/local/lib/python3.10/dist-packages (from selenium) (2.0.7)\n",
            "Collecting trio~=0.17 (from selenium)\n",
            "  Downloading trio-0.26.0-py3-none-any.whl (475 kB)\n",
            "\u001b[2K     \u001b[90m━━━━━━━━━━━━━━━━━━━━━━━━━━━━━━━━━━━━━━━━\u001b[0m \u001b[32m475.7/475.7 kB\u001b[0m \u001b[31m39.0 MB/s\u001b[0m eta \u001b[36m0:00:00\u001b[0m\n",
            "\u001b[?25hCollecting trio-websocket~=0.9 (from selenium)\n",
            "  Downloading trio_websocket-0.11.1-py3-none-any.whl (17 kB)\n",
            "Requirement already satisfied: certifi>=2021.10.8 in /usr/local/lib/python3.10/dist-packages (from selenium) (2024.7.4)\n",
            "Collecting typing_extensions~=4.9.0 (from selenium)\n",
            "  Downloading typing_extensions-4.9.0-py3-none-any.whl (32 kB)\n",
            "Requirement already satisfied: websocket-client==1.8.0 in /usr/local/lib/python3.10/dist-packages (from selenium) (1.8.0)\n",
            "Requirement already satisfied: attrs>=23.2.0 in /usr/local/lib/python3.10/dist-packages (from trio~=0.17->selenium) (23.2.0)\n",
            "Requirement already satisfied: sortedcontainers in /usr/local/lib/python3.10/dist-packages (from trio~=0.17->selenium) (2.4.0)\n",
            "Requirement already satisfied: idna in /usr/local/lib/python3.10/dist-packages (from trio~=0.17->selenium) (3.7)\n",
            "Collecting outcome (from trio~=0.17->selenium)\n",
            "  Downloading outcome-1.3.0.post0-py2.py3-none-any.whl (10 kB)\n",
            "Requirement already satisfied: sniffio>=1.3.0 in /usr/local/lib/python3.10/dist-packages (from trio~=0.17->selenium) (1.3.1)\n",
            "Requirement already satisfied: exceptiongroup in /usr/local/lib/python3.10/dist-packages (from trio~=0.17->selenium) (1.2.2)\n",
            "Collecting wsproto>=0.14 (from trio-websocket~=0.9->selenium)\n",
            "  Downloading wsproto-1.2.0-py3-none-any.whl (24 kB)\n",
            "Requirement already satisfied: pysocks!=1.5.7,<2.0,>=1.5.6 in /usr/local/lib/python3.10/dist-packages (from urllib3[socks]<3,>=1.26->selenium) (1.7.1)\n",
            "Requirement already satisfied: h11<1,>=0.9.0 in /usr/local/lib/python3.10/dist-packages (from wsproto>=0.14->trio-websocket~=0.9->selenium) (0.14.0)\n",
            "Installing collected packages: fuzzywuzzy, wsproto, typing_extensions, outcome, trio, trio-websocket, selenium\n",
            "  Attempting uninstall: typing_extensions\n",
            "    Found existing installation: typing_extensions 4.12.2\n",
            "    Uninstalling typing_extensions-4.12.2:\n",
            "      Successfully uninstalled typing_extensions-4.12.2\n",
            "\u001b[31mERROR: pip's dependency resolver does not currently take into account all the packages that are installed. This behaviour is the source of the following dependency conflicts.\n",
            "torch 2.3.1+cu121 requires nvidia-cublas-cu12==12.1.3.1; platform_system == \"Linux\" and platform_machine == \"x86_64\", which is not installed.\n",
            "torch 2.3.1+cu121 requires nvidia-cuda-cupti-cu12==12.1.105; platform_system == \"Linux\" and platform_machine == \"x86_64\", which is not installed.\n",
            "torch 2.3.1+cu121 requires nvidia-cuda-nvrtc-cu12==12.1.105; platform_system == \"Linux\" and platform_machine == \"x86_64\", which is not installed.\n",
            "torch 2.3.1+cu121 requires nvidia-cuda-runtime-cu12==12.1.105; platform_system == \"Linux\" and platform_machine == \"x86_64\", which is not installed.\n",
            "torch 2.3.1+cu121 requires nvidia-cudnn-cu12==8.9.2.26; platform_system == \"Linux\" and platform_machine == \"x86_64\", which is not installed.\n",
            "torch 2.3.1+cu121 requires nvidia-cufft-cu12==11.0.2.54; platform_system == \"Linux\" and platform_machine == \"x86_64\", which is not installed.\n",
            "torch 2.3.1+cu121 requires nvidia-curand-cu12==10.3.2.106; platform_system == \"Linux\" and platform_machine == \"x86_64\", which is not installed.\n",
            "torch 2.3.1+cu121 requires nvidia-cusolver-cu12==11.4.5.107; platform_system == \"Linux\" and platform_machine == \"x86_64\", which is not installed.\n",
            "torch 2.3.1+cu121 requires nvidia-cusparse-cu12==12.1.0.106; platform_system == \"Linux\" and platform_machine == \"x86_64\", which is not installed.\n",
            "torch 2.3.1+cu121 requires nvidia-nccl-cu12==2.20.5; platform_system == \"Linux\" and platform_machine == \"x86_64\", which is not installed.\n",
            "torch 2.3.1+cu121 requires nvidia-nvtx-cu12==12.1.105; platform_system == \"Linux\" and platform_machine == \"x86_64\", which is not installed.\n",
            "cudf-cu12 24.4.1 requires pandas<2.2.2dev0,>=2.0, but you have pandas 2.2.2 which is incompatible.\u001b[0m\u001b[31m\n",
            "\u001b[0mSuccessfully installed fuzzywuzzy-0.18.0 outcome-1.3.0.post0 selenium-4.23.0 trio-0.26.0 trio-websocket-0.11.1 typing_extensions-4.9.0 wsproto-1.2.0\n"
          ]
        }
      ],
      "source": [
        "!pip install selenium fuzzywuzzy"
      ]
    },
    {
      "cell_type": "markdown",
      "metadata": {
        "id": "5wqN1HsTbqsJ"
      },
      "source": [
        "# Dependencies"
      ]
    },
    {
      "cell_type": "code",
      "execution_count": null,
      "metadata": {
        "colab": {
          "base_uri": "https://localhost:8080/"
        },
        "id": "uA7CMBjDbsU0",
        "outputId": "fd305901-e46b-4aa9-d5a4-a8ee885b339a"
      },
      "outputs": [
        {
          "name": "stderr",
          "output_type": "stream",
          "text": [
            "/usr/local/lib/python3.10/dist-packages/fuzzywuzzy/fuzz.py:11: UserWarning: Using slow pure-python SequenceMatcher. Install python-Levenshtein to remove this warning\n",
            "  warnings.warn('Using slow pure-python SequenceMatcher. Install python-Levenshtein to remove this warning')\n"
          ]
        }
      ],
      "source": [
        "import pandas as pd\n",
        "from embedchain import App\n",
        "import matplotlib.pyplot as plt\n",
        "from serpapi.google_search import GoogleSearch\n",
        "\n",
        "# Importing dependancies\n",
        "import re\n",
        "import os\n",
        "import yaml\n",
        "import json\n",
        "from openai import OpenAI\n",
        "from fuzzywuzzy import fuzz\n",
        "\n",
        "import time\n",
        "from selenium import webdriver\n",
        "from selenium.webdriver.chrome.options import Options\n",
        "\n",
        "from bs4 import BeautifulSoup\n",
        "from selenium import webdriver\n",
        "from selenium.webdriver.chrome.options import Options\n",
        "from selenium.webdriver.common.by import By\n",
        "from selenium.webdriver.support.ui import WebDriverWait\n",
        "from selenium.webdriver.support import expected_conditions as EC"
      ]
    },
    {
      "cell_type": "markdown",
      "metadata": {
        "id": "wQPzjw7capy5"
      },
      "source": [
        "# Constants"
      ]
    },
    {
      "cell_type": "code",
      "execution_count": null,
      "metadata": {
        "id": "iXFGz-AjarUu"
      },
      "outputs": [],
      "source": [
        "SERP_API = \"\"\n",
        "OPENAI_API_KEY=\"\"\n",
        "PRODUCT = \"Iphone 14 Pro Max\""
      ]
    },
    {
      "cell_type": "markdown",
      "metadata": {
        "id": "o2IcSgdxo2M1"
      },
      "source": [
        "# Google Trends"
      ]
    },
    {
      "cell_type": "code",
      "execution_count": null,
      "metadata": {
        "id": "8JEVzuVip1Fh"
      },
      "outputs": [],
      "source": [
        "def plot_google_trends(product, SERP_API):\n",
        "    params = {\n",
        "        \"api_key\": SERP_API,\n",
        "        \"engine\": \"google_trends\",\n",
        "        \"q\": product\n",
        "    }\n",
        "\n",
        "    search = GoogleSearch(params)\n",
        "    results = search.get_dict()\n",
        "\n",
        "    # Extracting data from JSON\n",
        "    dates = [item['date'] for item in results['interest_over_time']['timeline_data']]\n",
        "    values = [int(item['values'][0]['value']) for item in results['interest_over_time']['timeline_data']]\n",
        "\n",
        "    # Creating a DataFrame\n",
        "    df = pd.DataFrame({'Date': dates, 'Value': values})\n",
        "\n",
        "    # Plotting the data\n",
        "    plt.figure(figsize=(12, 6))\n",
        "    plt.plot(df['Date'], df['Value'], marker='o')\n",
        "    plt.xticks(rotation=90)\n",
        "    plt.xlabel('Date')\n",
        "    plt.ylabel('Search Interest')\n",
        "    plt.title(f'Google Trends for \"{product}\" (Last Year)')\n",
        "    plt.grid(True)\n",
        "    plt.tight_layout()\n",
        "\n",
        "    plt.show()\n",
        "\n",
        "    # Return the latest value\n",
        "    latest_value = values[-1]\n",
        "    return latest_value"
      ]
    },
    {
      "cell_type": "code",
      "execution_count": null,
      "metadata": {
        "colab": {
          "base_uri": "https://localhost:8080/",
          "height": 419
        },
        "id": "sQ06kV0r64d4",
        "outputId": "326a8d88-806b-4ae9-e65c-87e7da53541a"
      },
      "outputs": [
        {
          "data": {
            "image/png": "[encoded data removed]",
            "text/plain": [
              "<Figure size 1200x600 with 1 Axes>"
            ]
          },
          "metadata": {},
          "output_type": "display_data"
        },
        {
          "name": "stdout",
          "output_type": "stream",
          "text": [
            "Demand value for 'Iphone 14 Pro Max' is: 31\n"
          ]
        }
      ],
      "source": [
        "demand_value = plot_google_trends(PRODUCT, SERP_API)\n",
        "print(f\"Demand value for '{PRODUCT}' is: {demand_value}\")"
      ]
    },
    {
      "cell_type": "markdown",
      "metadata": {
        "id": "iSvOpf1_Y4wO"
      },
      "source": [
        "# News articles"
      ]
    },
    {
      "cell_type": "code",
      "execution_count": null,
      "metadata": {
        "id": "O2uaVC4qa0iz"
      },
      "outputs": [],
      "source": [
        "# Function to fetch the top 5 news links\n",
        "def fetch_top_news_links(product, api_key, location=\"India\", top_n=5):\n",
        "    params = {\n",
        "        \"q\": product,\n",
        "        \"tbm\": \"nws\",\n",
        "        \"location\": location,\n",
        "        \"api_key\": api_key\n",
        "    }\n",
        "\n",
        "    # Perform the search\n",
        "    search = GoogleSearch(params)\n",
        "    results = search.get_dict()\n",
        "\n",
        "    # Get the news results\n",
        "    news_results = results.get(\"news_results\", [])\n",
        "\n",
        "    # Fetch top N links and store them in a list of dictionaries\n",
        "    top_links = [{\"title\": result[\"title\"], \"link\": result[\"link\"]} for result in news_results[:top_n]]\n",
        "\n",
        "    return top_links"
      ]
    },
    {
      "cell_type": "code",
      "execution_count": null,
      "metadata": {
        "colab": {
          "base_uri": "https://localhost:8080/"
        },
        "id": "dXc3zOHXbleA",
        "outputId": "a24864b0-252d-4a68-d105-94f4c5bfa4b6"
      },
      "outputs": [
        {
          "name": "stdout",
          "output_type": "stream",
          "text": [
            "[{'title': 'iPhone 16 Pro Max: latest news, rumors and everything we know so far', 'link': 'https://www.techradar.com/phones/iphone/iphone-16-pro-max'}, {'title': 'Here’s the Pixel 9 Pro XL vs. the iPhone 14 Pro Max', 'link': 'https://www.droid-life.com/2024/07/15/heres-the-pixel-9-pro-xl-vs-the-iphone-14-pro-max/'}, {'title': 'Apple iPhone 15 Pro Max vs iPhone 14 Pro Max: main differences', 'link': 'https://www.phonearena.com/reviews/apple-iphone-15-pro-max-vs-iphone-14-pro-max_id5816'}, {'title': '10 reasons why you’ll want to upgrade your iPhone 14 Pro this fall', 'link': 'https://www.macworld.com/article/2403986/iphone-14-pro-upgrade-iphone-16-apple-intelligence-titanium-display-camera.html'}, {'title': 'Disappointing Sales of iPhone 15 Models: A Shift in Consumer Preferences or Innovation Fatigue?', 'link': 'https://dazeinfo.com/2024/07/22/disappointing-sales-of-iphone-15-models-a-shift-in-consumer-preferences-or-innovation-fatigue/'}]\n"
          ]
        }
      ],
      "source": [
        "# Example Usage\n",
        "top_news_links = fetch_top_news_links(PRODUCT, SERP_API)\n",
        "print(top_news_links)"
      ]
    },
    {
      "cell_type": "markdown",
      "metadata": {
        "id": "3jWoOBPlZ6up"
      },
      "source": [
        "# Link Summerization"
      ]
    },
    {
      "cell_type": "code",
      "execution_count": null,
      "metadata": {
        "colab": {
          "base_uri": "https://localhost:8080/"
        },
        "id": "OiWydqo6WPTI",
        "outputId": "33fafdca-66a3-4e78-c5a0-e7e771b05a2e"
      },
      "outputs": [
        {
          "name": "stdout",
          "output_type": "stream",
          "text": [
            "config.yaml has been created with the specified contents.\n"
          ]
        }
      ],
      "source": [
        "# Define the contents of the config file\n",
        "config_contents = {\n",
        "    'llm': {\n",
        "        'provider': 'openai',\n",
        "        'config': {\n",
        "            'model': 'gpt-3.5-turbo',\n",
        "            'temperature': 0.5,\n",
        "            'max_tokens': 2000,\n",
        "            'top_p': 1,\n",
        "            'stream': False\n",
        "        }\n",
        "    }\n",
        "}\n",
        "\n",
        "# Write the contents to config.yaml\n",
        "with open('config.yaml', 'w') as file:\n",
        "    yaml.dump(config_contents, file, default_flow_style=False)\n",
        "\n",
        "print(\"config.yaml has been created with the specified contents.\")"
      ]
    },
    {
      "cell_type": "code",
      "execution_count": null,
      "metadata": {
        "id": "ry5cfebyfD4T"
      },
      "outputs": [],
      "source": [
        "# Function to load the LLM configuration from a YAML file\n",
        "def load_llm_config(config_path):\n",
        "    with open(config_path, 'r') as file:\n",
        "        config = yaml.safe_load(file)\n",
        "    return config"
      ]
    },
    {
      "cell_type": "code",
      "execution_count": null,
      "metadata": {
        "id": "Cly3bY4B--Zv"
      },
      "outputs": [],
      "source": [
        "# Function to summarize an article and store it in a JSON file\n",
        "def summarize_articles_and_store(links, config_path, output_file):\n",
        "\n",
        "    os.environ['OPENAI_API_KEY'] = OPENAI_API_KEY\n",
        "    # Load the LLM configuration\n",
        "    llm_config = load_llm_config(config_path)\n",
        "    app = App.from_config(config_path=config_path)\n",
        "\n",
        "    summaries = []\n",
        "    for link_info in links:\n",
        "        app.add(link_info[\"link\"])\n",
        "        response = app.query(\"Generate an entire summary of this article and do not miss important details\")\n",
        "\n",
        "        if app.llm.config.stream:  # if stream is enabled, response is a generator\n",
        "            content = \"\".join(chunk for chunk in response)\n",
        "        else:\n",
        "            content = response\n",
        "\n",
        "        summaries.append({\n",
        "            \"title\": link_info[\"title\"],\n",
        "            \"link\": link_info[\"link\"],\n",
        "            \"content\": content\n",
        "        })\n",
        "\n",
        "        app.reset()  # Reset the app for the next article\n",
        "\n",
        "    # Write the summaries to the JSON file\n",
        "    with open(output_file, 'w') as file:\n",
        "        json.dump(summaries, file, indent=4)"
      ]
    },
    {
      "cell_type": "code",
      "execution_count": null,
      "metadata": {
        "colab": {
          "base_uri": "https://localhost:8080/"
        },
        "id": "C1ih0ZWUehk_",
        "outputId": "77472c86-eb0b-43f6-deb5-d3b5817ab84f"
      },
      "outputs": [
        {
          "name": "stderr",
          "output_type": "stream",
          "text": [
            "Inserting batches in chromadb: 100%|██████████| 1/1 [00:00<00:00,  1.44it/s]\n",
            "WARNING:embedchain.embedchain:Starting from v0.1.125 the return type of query method will be changed to tuple containing `answer`.\n",
            "Inserting batches in chromadb: 100%|██████████| 1/1 [00:00<00:00,  2.53it/s]\n",
            "WARNING:chromadb.segment.impl.vector.local_persistent_hnsw:Number of requested results 3 is greater than number of elements in index 2, updating n_results = 2\n",
            "WARNING:embedchain.embedchain:Starting from v0.1.125 the return type of query method will be changed to tuple containing `answer`.\n",
            "Inserting batches in chromadb: 100%|██████████| 1/1 [00:00<00:00,  3.46it/s]\n",
            "WARNING:embedchain.embedchain:Starting from v0.1.125 the return type of query method will be changed to tuple containing `answer`.\n",
            "Inserting batches in chromadb: 100%|██████████| 1/1 [00:00<00:00,  3.53it/s]\n",
            "WARNING:embedchain.embedchain:Starting from v0.1.125 the return type of query method will be changed to tuple containing `answer`.\n",
            "Inserting batches in chromadb: 100%|██████████| 1/1 [00:00<00:00,  2.29it/s]\n",
            "WARNING:embedchain.embedchain:Starting from v0.1.125 the return type of query method will be changed to tuple containing `answer`.\n"
          ]
        }
      ],
      "source": [
        "config_path = \"config.yaml\"\n",
        "output_file = \"summaries.json\"\n",
        "\n",
        "# Fetch the top 5 links\n",
        "top_5_links = fetch_top_news_links(PRODUCT, SERP_API)\n",
        "\n",
        "# Summarize the articles and store them in a JSON file\n",
        "summarize_articles_and_store(top_5_links, config_path, output_file)"
      ]
    },
    {
      "cell_type": "markdown",
      "metadata": {
        "id": "L7q83Q2ghUmf"
      },
      "source": [
        "# API Creation"
      ]
    },
    {
      "cell_type": "code",
      "execution_count": null,
      "metadata": {
        "colab": {
          "base_uri": "https://localhost:8080/",
          "height": 294
        },
        "id": "jr_ovhXHgx7S",
        "outputId": "9425d2dc-6886-41f1-d29b-fb82634cd6d9"
      },
      "outputs": [
        {
          "name": "stdout",
          "output_type": "stream",
          "text": [
            "Requirement already satisfied: pyngrok in /usr/local/lib/python3.10/dist-packages (4.1.1)\n",
            "Collecting pyngrok\n",
            "  Downloading pyngrok-7.2.0-py3-none-any.whl (22 kB)\n",
            "Requirement already satisfied: PyYAML>=5.1 in /usr/local/lib/python3.10/dist-packages (from pyngrok) (6.0.1)\n",
            "Installing collected packages: pyngrok\n",
            "  Attempting uninstall: pyngrok\n",
            "    Found existing installation: pyngrok 4.1.1\n",
            "    Uninstalling pyngrok-4.1.1:\n",
            "      Successfully uninstalled pyngrok-4.1.1\n",
            "Successfully installed pyngrok-7.2.0\n"
          ]
        },
        {
          "data": {
            "application/vnd.colab-display-data+json": {
              "id": "e15e4db04ff244d5b41defe6339790cf",
              "pip_warning": {
                "packages": [
                  "pyngrok"
                ]
              }
            }
          },
          "metadata": {},
          "output_type": "display_data"
        }
      ],
      "source": [
        "pip install --upgrade pyngrok"
      ]
    },
    {
      "cell_type": "code",
      "execution_count": null,
      "metadata": {
        "colab": {
          "base_uri": "https://localhost:8080/"
        },
        "id": "NwsGOKixhJnA",
        "outputId": "c8233ba3-6108-4cf5-e642-5acc1936119d"
      },
      "outputs": [
        {
          "name": "stderr",
          "output_type": "stream",
          "text": [
            "WARNING:pyngrok.process.ngrok:t=2024-07-22T17:48:05+0000 lvl=warn msg=\"ngrok config file found at both XDG and legacy locations, using XDG location\" xdg_path=/root/.config/ngrok/ngrok.yml legacy_path=/root/.ngrok2/ngrok.yml\n"
          ]
        },
        {
          "name": "stdout",
          "output_type": "stream",
          "text": [
            " * ngrok tunnel \"NgrokTunnel: \"https://ab2b-34-106-156-219.ngrok-free.app\" -> \"http://localhost:5000\"\" -> \"http://127.0.0.1:5000/\"\n",
            " * Serving Flask app '__main__'\n",
            " * Debug mode: off\n"
          ]
        },
        {
          "name": "stderr",
          "output_type": "stream",
          "text": [
            "INFO:werkzeug:\u001b[31m\u001b[1mWARNING: This is a development server. Do not use it in a production deployment. Use a production WSGI server instead.\u001b[0m\n",
            " * Running on http://127.0.0.1:5000\n",
            "INFO:werkzeug:\u001b[33mPress CTRL+C to quit\u001b[0m\n",
            "INFO:werkzeug:127.0.0.1 - - [22/Jul/2024 17:48:28] \"GET / HTTP/1.1\" 200 -\n",
            "INFO:werkzeug:127.0.0.1 - - [22/Jul/2024 17:48:31] \"GET / HTTP/1.1\" 200 -\n",
            "INFO:werkzeug:127.0.0.1 - - [22/Jul/2024 17:48:32] \"\u001b[33mGET /favicon.ico HTTP/1.1\u001b[0m\" 404 -\n"
          ]
        }
      ],
      "source": [
        "import os\n",
        "from flask import Flask\n",
        "\n",
        "# Set the ngrok auth token\n",
        "os.system('ngrok authtoken \"2UCXNjYBaO4UzEzzcOTAysVe6aQ_6823vXNxfYxZu1z4v6amw\"')\n",
        "\n",
        "# Import and configure ngrok\n",
        "from pyngrok import ngrok\n",
        "\n",
        "# Start ngrok\n",
        "public_url = ngrok.connect(5000)\n",
        "print(\" * ngrok tunnel \\\"{}\\\" -> \\\"http://127.0.0.1:5000/\\\"\".format(public_url))\n",
        "\n",
        "# Flask app\n",
        "app = Flask(__name__)\n",
        "\n",
        "@app.route('/')\n",
        "def home():\n",
        "    return \"Hello World\"\n",
        "\n",
        "if __name__ == \"__main__\":\n",
        "    app.run()\n"
      ]
    },
    {
      "cell_type": "markdown",
      "metadata": {
        "id": "J8BTc7qlr5Nc"
      },
      "source": [
        "# Negotiator-No-LLM"
      ]
    },
    {
      "cell_type": "code",
      "execution_count": null,
      "metadata": {
        "id": "qCBeF0sZr9w-"
      },
      "outputs": [],
      "source": [
        "# Prompts\n",
        "SYSTEM_PROMPT = \"\"\"You are a highly skilled shopkeeper and negotiator for an e-commerce platform. \\\n",
        "Your primary responsibility is to maximize profit while ensuring customer satisfaction. \\\n",
        "You are adept at persuasive communication, understanding customer needs, and highlighting the value of your products. \\\n",
        "Your tone should be professional, friendly, and convincing, balancing assertiveness with customer empathy to maintain positive and productive relationships. \\\n",
        "\n",
        "Responsibilities:\n",
        "\n",
        "Product Selling:\n",
        "\n",
        "Convince customers of the quality and value of your products.\n",
        "Handle price negotiations while protecting your profit margins.\n",
        "Promote additional products or bundled offers to increase sales.\n",
        "Customer Service:\n",
        "\n",
        "Address any customer concerns or objections effectively.\n",
        "Provide detailed information and benefits of the products.\n",
        "Ensure customers feel valued and understood to foster loyalty.\n",
        "Negotiation Tactics:\n",
        "\n",
        "Highlight the unique features and benefits of your products.\n",
        "Be prepared to offer limited-time discounts or promotions strategically.\n",
        "Understand the customer’s needs and tailor your pitch accordingly.\n",
        "Guidelines:\n",
        "\n",
        "Professionalism: Maintain a courteous and professional demeanor at all times.\n",
        "Preparation: Always be well-prepared with relevant product information and data.\n",
        "Flexibility: Be willing to adjust strategies based on the customer’s behavior and feedback.\n",
        "Customer Focus: Balance profit maximization with customer satisfaction to encourage repeat business.\n",
        "Sample Interactions:\n",
        "\n",
        "Product Price Negotiation:\n",
        "\n",
        "user: \"I really like this product, but I've seen similar items for a lower price. Can you offer a 10% discount to match those offers?\"\n",
        "Assistant: \"I understand your concern. Our product comes with a one-year warranty and free customer support, which is not offered by other sellers. If possible please upload the competitive link here, We can check and let you know.\n",
        "\n",
        "user: \"I'm frustrated with the delayed delivery. Can I get a discount on my next purchase?\"\n",
        "Assistant: \"I apologize for the inconvenience. We strive to ensure timely deliveries. Can you please a raise a ticket on the issue portal, we will address this issue shortly.\n",
        "\n",
        "user: \"I'm interested in buying multiple units of this product. Can we discuss a bulk purchase discount?\"\n",
        "Assistant: \"Thank you for considering a bulk purchase. For orders of five or more units, we have discount of 2%\n",
        "\n",
        "user: \"I have seen several sellers offering similar products. What can you offer that aligns with my budget and ensures the best value for my purchase?\"\n",
        "Assistant: \"Our product stands out due to its superior build quality and excellent customer reviews. We also offer a money-back guarantee and 24/7 customer support. You can know more at our \"About Page\".\n",
        "\"\"\"\n",
        "\n",
        "INSTRUCTIONS = \"\"\"\\n1. Prices are in Indian rupees.\n",
        "2. Be very strict on lowering the prices.\n",
        "3. IN ANY CASE NEVER DISCLOSE THE Bottom line price and do not even mention it.\n",
        "4. DO NOT ADD ANY EXTRA accessories, politely answer them No.\n",
        "5. If user adds an external link, and price on that link is lower than curr_prod_price, then mention the price and give some discount based on the next point.\n",
        "6. Strictly start with small amounts and then in the worst case match the link offer, define the amount you can go down with respect to Demand of the product.\n",
        "\"\"\"\n",
        "\n",
        "PRODUCT_DETAILS = \"\"\"Product name = {product_name},\n",
        "Current product price = {curr_prod_price},\n",
        "Demand of the product (on a scale of 0 to 1): {demand_score},\n",
        "Bottom line price (STRICTLY CAN NOT SELL THE PRODUCT BELOW THIS): {bottom_line_price}\n",
        "\n",
        "Additional_details: {add_on_details}\n",
        "\"\"\"\n",
        "\n",
        "query_prompt = \"\"\"Given the product details:\n",
        "{PRODUCT_DETAILS}\n",
        "\n",
        "the user will try to bargain with you, politely let the user ask for only valid points, Be as strict as possible.\n",
        "\n",
        "Assistant: Hi, how can I help you with your desired product: {product_name}\n",
        "User:\n",
        "\"\"\""
      ]
    },
    {
      "cell_type": "code",
      "execution_count": null,
      "metadata": {
        "colab": {
          "base_uri": "https://localhost:8080/"
        },
        "id": "BRy0bjWPsBYC",
        "outputId": "aa191a9c-f63c-4e3c-995a-590228a8ea97"
      },
      "outputs": [
        {
          "name": "stdout",
          "output_type": "stream",
          "text": [
            "Given the product details:\n",
            "Product name = Apple iPhone 15 (Black, 128 GB),\n",
            "Current product price = 72,000,\n",
            "Demand of the product (on a scale of 0 to 1): 0.3,\n",
            "Bottom line price (STRICTLY CAN NOT SELL THE PRODUCT BELOW THIS): 69,000\n",
            "\n",
            "Additional_details: None\n",
            "\n",
            "\n",
            "the user will try to bargain with you, politely let the user ask for only valid points, Be as strict as possible.\n",
            "\n",
            "Assistant: Hi, how can I help you with your desired product: Apple iPhone 15 (Black, 128 GB)\n",
            "User:\n",
            "\n"
          ]
        }
      ],
      "source": [
        "# Populate data\n",
        "product_name = \"Apple iPhone 15 (Black, 128 GB)\"\n",
        "curr_prod_price = \"72,000\"\n",
        "demand_score = \"0.3\"\n",
        "bottom_line_price = \"69,000\"\n",
        "add_on_details = \"None\"\n",
        "\n",
        "# Product details\n",
        "prod_details = PRODUCT_DETAILS.format(product_name=product_name,\n",
        "                                      curr_prod_price=curr_prod_price,\n",
        "                                      demand_score=demand_score,\n",
        "                                      bottom_line_price=bottom_line_price,\n",
        "                                      add_on_details=add_on_details)\n",
        "\n",
        "# Final query to the LLM\n",
        "llm_query = query_prompt.format(PRODUCT_DETAILS=prod_details, product_name=product_name)\n",
        "print(llm_query)"
      ]
    },
    {
      "cell_type": "code",
      "execution_count": null,
      "metadata": {
        "id": "VgjGSg62NZIM"
      },
      "outputs": [],
      "source": [
        "# To extract link from text\n",
        "def extract_link(text):\n",
        "  try:\n",
        "    link = re.search(\"(?P<url>https?://[^\\s]+)\", text).group(\"url\")\n",
        "  except:\n",
        "    link = \"\"\n",
        "\n",
        "  return link\n",
        "\n",
        "# text = \"Hi, no link here, https://www.amazon.com/Smartwatch-Fitness-Waterproof-Pedometer-Activity/dp/B0CZNX1YBK/ref=sr_1_1?_encoding=UTF8&content-id=amzn1.sym.33f8f65b-b95c-44af-8b89-e59e69e79828&dib=eyJ2IjoiMSJ9.B35w_FIhBcvnuv9R2m_x5Sg5EzBXgChuVqNyTOn0izK0idZ8NAnjkw4v-LmjJcpcFUIZOU3t85wzIx8olO_NlWjF3ML5a9YQYSzkv-zZ9h_Ay1JLawY5Cg2AuvkntHjWExwkFzC8odZHafYU_89YNaTBZFecz6i9cdJ49KPb58uWCKp5d4PA31bPLK9ymrJj-TM0dA2gxZ1K0xNhtKzaA9XH8wH4cnBN1vlN4kN7B2E.m9H86DnktQLOtbjLVL4FCkaTS92PpDPx2V4jSsFoCjM&dib_tag=se&keywords=activity%2Btrackers%2Band%2Bsmartwatches&pd_rd_r=7e8e14f8-8a4e-43a5-927e-a1d7cd60daf4&pd_rd_w=tnqdG&pd_rd_wg=zr7ig&pf_rd_p=33f8f65b-b95c-44af-8b89-e59e69e79828&pf_rd_r=82JG975ZGZYGJJ9SDYKG&qid=1721674994&sr=8-1&th=1 for uploading in the llm\"\n",
        "# link = extract_link(text)\n",
        "# print(link)"
      ]
    },
    {
      "cell_type": "code",
      "execution_count": null,
      "metadata": {
        "id": "sSkV4HF-NbPk"
      },
      "outputs": [],
      "source": [
        "from bs4 import BeautifulSoup, Comment\n",
        "\n",
        "# Get HTML data\n",
        "def get_dynamic_html(url):\n",
        "    # Set up Chrome options\n",
        "    chrome_options = Options()\n",
        "    chrome_options.add_argument(\"--headless\")  # Run Chrome in headless mode (no GUI)\n",
        "    chrome_options.add_argument(\"--no-sandbox\")\n",
        "    chrome_options.add_argument(\"--disable-dev-shm-usage\")\n",
        "\n",
        "    # Initialize the WebDriver with the specified options\n",
        "    driver = webdriver.Chrome(options=chrome_options)\n",
        "\n",
        "    try:\n",
        "        # Open the URL in the browser\n",
        "        driver.get(url)\n",
        "\n",
        "        # Wait for the dynamic content to load (adjust as needed)\n",
        "        WebDriverWait(driver, 300).until(\n",
        "            EC.presence_of_element_located((By.TAG_NAME, \"body\"))\n",
        "        )\n",
        "\n",
        "        # Get the dynamically loaded HTML\n",
        "        dynamic_html = driver.page_source\n",
        "\n",
        "        return dynamic_html\n",
        "\n",
        "    finally:\n",
        "        # Close the WebDriver\n",
        "        driver.quit()\n",
        "\n",
        "# Initial pre-processing of the HTML doc\n",
        "def remove_unnecessary_tags(html_content):\n",
        "    soup = BeautifulSoup(html_content, \"html.parser\")\n",
        "\n",
        "    # Remove unnecessary tags\n",
        "    for tag in soup([\"script\", \"style\", \"noscript\", \"link\", \"path\", \"symbol\", \"input\"]):\n",
        "        # for tag in soup(['script', 'style', 'noscript']):\n",
        "        tag.extract()\n",
        "\n",
        "    # Remove comments\n",
        "    for comment in soup.find_all(string=lambda text: isinstance(text, Comment)):\n",
        "        comment.extract()\n",
        "\n",
        "    # Get the modified HTML content\n",
        "    cleaned_html = str(soup)\n",
        "\n",
        "    # Remove extra white spaces and new lines\n",
        "    cleaned_html = re.sub(r\"\\s+\", \" \", cleaned_html).strip()\n",
        "\n",
        "    return cleaned_html\n",
        "\n",
        "# Collect all head tags\n",
        "def get_head_tags(h_tags):\n",
        "    headings_list = []\n",
        "    for tag in h_tags:\n",
        "        span_tags = tag.find_all(\"span\")\n",
        "        if len(span_tags) >= 2:  # Check if there are at least two <span> tags\n",
        "            second_span_content = span_tags[\n",
        "                1\n",
        "            ].text.strip()  # Extract content of the second <span> tag\n",
        "            headings_list.append(second_span_content)\n",
        "        elif len(span_tags) == 1:  # Check if there is only one <span> tag\n",
        "            headings_list.append(span_tags[0].text.strip())\n",
        "        else:  # If no <span> tag is present, extract the content of the <h1> tag\n",
        "            headings_list.append(tag.text.strip())\n",
        "\n",
        "    return headings_list\n",
        "\n",
        "\n",
        "# Get product name\n",
        "def get_product_name(soup, headings_list):\n",
        "    product_title = soup.title.text\n",
        "    # Calculate similarity scores ()\n",
        "    scores = [(item, fuzz.ratio(product_title, item)) for item in headings_list]\n",
        "\n",
        "    # Sort by similarity score in descending order\n",
        "    scores.sort(key=lambda x: x[1], reverse=True)\n",
        "\n",
        "    # Get the most matching item\n",
        "    closest_item = scores[0][0]\n",
        "\n",
        "    product_name = f\"{closest_item}\"\n",
        "\n",
        "    return product_name\n",
        "\n",
        "# Text for LLM call\n",
        "text_content = \"\"\n",
        "def get_text_content(dynamic_html_content):\n",
        "  soup = BeautifulSoup(dynamic_html_content, \"html.parser\")\n",
        "  h_tags = soup.find_all(re.compile(\"^h[1]$\"))\n",
        "\n",
        "  headings_list = get_head_tags(h_tags)\n",
        "  if not headings_list:\n",
        "      h_tags = soup.find_all(re.compile(\"^h[1-3]$\"))\n",
        "      headings_list = get_head_tags(h_tags)\n",
        "\n",
        "  product_name = get_product_name(soup, headings_list)\n",
        "\n",
        "  def extract_text_with_elements(element):\n",
        "      global text_content\n",
        "      if element.name is not None:  # It's a tag\n",
        "          for child in element.children:\n",
        "              extract_text_with_elements(child)\n",
        "      else:\n",
        "          text = element.strip()\n",
        "          if text:\n",
        "              text_content += f\"{text} \"\n",
        "\n",
        "  # Extract text and elements\n",
        "  extract_text_with_elements(soup)\n",
        "\n",
        "  return text_content, product_name\n",
        "\n",
        "# text_content, product_name_from_HTML = get_text_content(dynamic_html_content)\n",
        "# product_name_from_HTML\n",
        "\n",
        "# if __name__ == \"__main__\":\n",
        "#     url = \"https://www.maplestore.in/products/iphone-15-mtp03hn-a\"\n",
        "#     dynamic_html_content = get_dynamic_html(url)\n",
        "\n",
        "#     dynamic_html_content = remove_unnecessary_tags(dynamic_html_content)\n"
      ]
    },
    {
      "cell_type": "code",
      "execution_count": null,
      "metadata": {
        "id": "MQRugJsuNlhm"
      },
      "outputs": [],
      "source": [
        "# Template for getting the outputs from LLM\n",
        "template = \"\"\"You are a helpful assistant that gives the product INFORMATION \\\n",
        "from a JSON document of a Product Catologue page of an Ecommerce website \\\n",
        "\n",
        "With respect to the context given, answer the query to the point, \\\n",
        "STRICTLY ANSWER LOGICALLY. DON'T RETURN THE CODE. CONSIDER THE DECIMAL POINTS.\n",
        "ALWAYS FOLLOW THE BRACKETS HEIRARCHY IN THE JSON PROVIDED.\n",
        "\"\"\"\n",
        "\n",
        "attribute = \"price\"\n",
        "\n",
        "query_for_llm = \"\"\"{context}\n",
        "\n",
        "STRICTLY FOCUS ON THE PRODUCT GIVEN.\n",
        "THERE ARE MULITPLE PRODUCTS AVAILABLE IN THE JSON.\n",
        "Get only for:\n",
        "What is the {attribute} of the product `{product_name_from_HTML}`,\n",
        "STRICTLY JUST ANSWER THE QUESTION, No Extra words, No Explanation\n",
        "If answer not available, STRICTLY output: NA\n",
        "\n",
        "Return in a json schema.\n",
        "{{\n",
        " \"{attribute}\": \"\"\n",
        "}}\n",
        "\"\"\"\n",
        "\n",
        "# query_for_llm = query_for_llm.format(context=text_content, attribute=attribute, product_name_from_HTML=product_name_from_HTML)\n",
        "# print(query_for_llm)"
      ]
    },
    {
      "cell_type": "code",
      "execution_count": null,
      "metadata": {
        "id": "LYZSHMg-Np4u"
      },
      "outputs": [],
      "source": [
        "# Setting up the client\n",
        "client = OpenAI(api_key=OPENAI_API_KEY)\n",
        "\n",
        "def llm_price_call(query):\n",
        "    completion = client.chat.completions.create(\n",
        "        model=\"gpt-4o\",\n",
        "        messages=[{\"role\": \"system\", \"content\": template},\n",
        "                  {\"role\": \"assistant\", \"content\": query}]\n",
        "    )\n",
        "\n",
        "    # Extract the response content\n",
        "    res = completion.choices[0].message.content\n",
        "\n",
        "    return res\n",
        "\n",
        "# data = llm_price_call(query_for_llm)\n",
        "# print(data)\n",
        "\n",
        "# Get realtime price of the competitor\n",
        "def get_competitor_price(url):\n",
        "  dynamic_html_content = get_dynamic_html(url)\n",
        "  dynamic_html_content = remove_unnecessary_tags(dynamic_html_content)\n",
        "  text_content, product_name_from_HTML = get_text_content(dynamic_html_content)\n",
        "  query_for_llm_ = query_for_llm.format(context=text_content, attribute=attribute, product_name_from_HTML=product_name_from_HTML)\n",
        "\n",
        "  data = llm_price_call(query_for_llm_)\n",
        "  return data"
      ]
    },
    {
      "cell_type": "code",
      "execution_count": null,
      "metadata": {
        "colab": {
          "base_uri": "https://localhost:8080/"
        },
        "id": "BSTRHS0Syf_f",
        "outputId": "5c5c2267-6aa9-4537-b6cb-edeecdd38cb1"
      },
      "outputs": [
        {
          "name": "stdout",
          "output_type": "stream",
          "text": [
            "Content in 'prompt.txt' has been cleared.\n"
          ]
        }
      ],
      "source": [
        "# Maintaining Context and history of user and assistant\n",
        "import openai\n",
        "import json\n",
        "import os\n",
        "\n",
        "# Define the file name\n",
        "file_name = 'prompt.txt'\n",
        "client = OpenAI(api_key=OPENAI_API_KEY)\n",
        "\n",
        "try:\n",
        "    # Open the file in write mode ('w') to clear its content\n",
        "    with open(file_name, 'w') as file:\n",
        "        pass  # This will clear the content of the file\n",
        "    print(f\"Content in '{file_name}' has been cleared.\")\n",
        "except FileNotFoundError:\n",
        "    if not os.path.exists(file_name):\n",
        "        # If the file doesn't exist, create and open it in write mode to make it empty\n",
        "        with open(file_name, 'w') as file:\n",
        "            pass  # This will create an empty file\n",
        "    print(f\"'{file_name}' has been created and is empty.\")\n",
        "\n",
        "def advisor_reasoning(prompt, discussions=None):\n",
        "    if discussions is None:\n",
        "        discussions = []\n",
        "\n",
        "\n",
        "    link = extract_link(prompt)\n",
        "    tool_response_mssg = []\n",
        "    if link:\n",
        "        data = get_competitor_price(link)\n",
        "        tool_response = f\"The price of the product on the link: {link}, is {data}. Based on the demand score, you can add some possible discount.\"\n",
        "        tool_response_mssg = [\n",
        "            {\"role\": \"assistant\", \"content\": tool_response},\n",
        "            {\"role\": \"assistant\", \"content\": \"\"}\n",
        "        ]\n",
        "        discussions.extend(tool_response_mssg)\n",
        "\n",
        "    if discussions is []:\n",
        "        discussions = [{\"role\": \"system\", \"content\": SYSTEM_PROMPT + INSTRUCTIONS},\n",
        "                       {\"role\": \"assistant\", \"content\": llm_query}]\n",
        "    else:\n",
        "        discussions.extend([{\"role\": \"system\", \"content\": SYSTEM_PROMPT + INSTRUCTIONS},\n",
        "                       {\"role\": \"assistant\", \"content\": llm_query}])\n",
        "\n",
        "    discussions.append({\"role\": \"user\", \"content\": prompt})\n",
        "\n",
        "\n",
        "\n",
        "    completion = client.chat.completions.create(\n",
        "        model=\"gpt-4o\",\n",
        "        messages=discussions\n",
        "    )\n",
        "\n",
        "    # x = json.loads(str(completion))\n",
        "    response = completion.choices[0].message.content\n",
        "\n",
        "    discussions.append({\"role\": \"assistant\", \"content\": response})\n",
        "\n",
        "    with open(\"prompt.txt\", 'a') as f:\n",
        "        f.write(\"User: \" + prompt + \"\\n\")\n",
        "        f.write(\"Assistant: \" + response + \"\\n\")\n",
        "\n",
        "    return response\n",
        "\n",
        "# Existing context\n",
        "with open(\"prompt.txt\", 'r') as f:\n",
        "    content = f.read()\n",
        "    if content:\n",
        "        discussions = []\n",
        "        lines = content.split(\"\\n\")\n",
        "        for i in range(0, len(lines), 2):\n",
        "            discussions.append({\"role\": \"user\", \"content\": lines[i][6:]})\n",
        "            discussions.append({\"role\": \"assistant\", \"content\": lines[i + 1][11:]})\n",
        "    else:\n",
        "        discussions = None"
      ]
    },
    {
      "cell_type": "code",
      "execution_count": null,
      "metadata": {
        "colab": {
          "base_uri": "https://localhost:8080/"
        },
        "id": "13QYASST0WPx",
        "outputId": "62d90fd3-4294-4d24-b0de-9039c29a1c0a"
      },
      "outputs": [
        {
          "name": "stdout",
          "output_type": "stream",
          "text": [
            "Assistant: Hi, how can I help you with your desired product: Apple iPhone 15 (Black, 128 GB)\n",
            "\n",
            "User: exit\n"
          ]
        }
      ],
      "source": [
        "# Example Usage\n",
        "inp = \"\"\n",
        "print(f\"Assistant: Hi, how can I help you with your desired product: {product_name}\")\n",
        "while True:\n",
        "  inp = input(\"\\nUser: \")\n",
        "  if inp == \"exit\": break\n",
        "  res = advisor_reasoning(inp, discussions)\n",
        "  print(\"\\nAssistant: \"+ res)"
      ]
    },
    {
      "cell_type": "markdown",
      "metadata": {
        "id": "-3Iz3k9jiZCj"
      },
      "source": [
        "# Gradio Chat Interface"
      ]
    },
    {
      "cell_type": "code",
      "execution_count": null,
      "metadata": {
        "colab": {
          "base_uri": "https://localhost:8080/"
        },
        "collapsed": true,
        "id": "L5fB-OPXoi1w",
        "outputId": "021aa8d1-e561-43ea-c2c2-8a2ebbd494fb"
      },
      "outputs": [
        {
          "name": "stdout",
          "output_type": "stream",
          "text": [
            "Collecting gradio==3.45.0\n",
            "  Downloading gradio-3.45.0-py3-none-any.whl (20.2 MB)\n",
            "\u001b[2K     \u001b[90m━━━━━━━━━━━━━━━━━━━━━━━━━━━━━━━━━━━━━━━━\u001b[0m \u001b[32m20.2/20.2 MB\u001b[0m \u001b[31m4.3 MB/s\u001b[0m eta \u001b[36m0:00:00\u001b[0m\n",
            "\u001b[?25hCollecting aiofiles<24.0,>=22.0 (from gradio==3.45.0)\n",
            "  Downloading aiofiles-23.2.1-py3-none-any.whl (15 kB)\n",
            "Requirement already satisfied: altair<6.0,>=4.2.0 in /usr/local/lib/python3.10/dist-packages (from gradio==3.45.0) (4.2.2)\n",
            "Requirement already satisfied: fastapi in /usr/local/lib/python3.10/dist-packages (from gradio==3.45.0) (0.111.1)\n",
            "Collecting ffmpy (from gradio==3.45.0)\n",
            "  Downloading ffmpy-0.3.2.tar.gz (5.5 kB)\n",
            "  Preparing metadata (setup.py) ... \u001b[?25l\u001b[?25hdone\n",
            "Collecting gradio-client==0.5.2 (from gradio==3.45.0)\n",
            "  Downloading gradio_client-0.5.2-py3-none-any.whl (298 kB)\n",
            "\u001b[2K     \u001b[90m━━━━━━━━━━━━━━━━━━━━━━━━━━━━━━━━━━━━━━━━\u001b[0m \u001b[32m298.3/298.3 kB\u001b[0m \u001b[31m24.7 MB/s\u001b[0m eta \u001b[36m0:00:00\u001b[0m\n",
            "\u001b[?25hRequirement already satisfied: httpx in /usr/local/lib/python3.10/dist-packages (from gradio==3.45.0) (0.27.0)\n",
            "Requirement already satisfied: huggingface-hub>=0.14.0 in /usr/local/lib/python3.10/dist-packages (from gradio==3.45.0) (0.23.5)\n",
            "Requirement already satisfied: importlib-resources<7.0,>=1.3 in /usr/local/lib/python3.10/dist-packages (from gradio==3.45.0) (6.4.0)\n",
            "Requirement already satisfied: jinja2<4.0 in /usr/local/lib/python3.10/dist-packages (from gradio==3.45.0) (3.1.4)\n",
            "Requirement already satisfied: markupsafe~=2.0 in /usr/local/lib/python3.10/dist-packages (from gradio==3.45.0) (2.1.5)\n",
            "Requirement already satisfied: matplotlib~=3.0 in /usr/local/lib/python3.10/dist-packages (from gradio==3.45.0) (3.9.1)\n",
            "Requirement already satisfied: numpy~=1.0 in /usr/local/lib/python3.10/dist-packages (from gradio==3.45.0) (1.25.2)\n",
            "Requirement already satisfied: orjson~=3.0 in /usr/local/lib/python3.10/dist-packages (from gradio==3.45.0) (3.10.6)\n",
            "Requirement already satisfied: packaging in /usr/local/lib/python3.10/dist-packages (from gradio==3.45.0) (24.1)\n",
            "Requirement already satisfied: pandas<3.0,>=1.0 in /usr/local/lib/python3.10/dist-packages (from gradio==3.45.0) (2.2.2)\n",
            "Requirement already satisfied: pillow<11.0,>=8.0 in /usr/local/lib/python3.10/dist-packages (from gradio==3.45.0) (10.4.0)\n",
            "Requirement already satisfied: pydantic!=1.8,!=1.8.1,!=2.0.0,!=2.0.1,<3.0.0,>=1.7.4 in /usr/local/lib/python3.10/dist-packages (from gradio==3.45.0) (2.8.2)\n",
            "Collecting pydub (from gradio==3.45.0)\n",
            "  Downloading pydub-0.25.1-py2.py3-none-any.whl (32 kB)\n",
            "Requirement already satisfied: python-multipart in /usr/local/lib/python3.10/dist-packages (from gradio==3.45.0) (0.0.9)\n",
            "Requirement already satisfied: pyyaml<7.0,>=5.0 in /usr/local/lib/python3.10/dist-packages (from gradio==3.45.0) (6.0.1)\n",
            "Requirement already satisfied: requests~=2.0 in /usr/local/lib/python3.10/dist-packages (from gradio==3.45.0) (2.31.0)\n",
            "Collecting semantic-version~=2.0 (from gradio==3.45.0)\n",
            "  Downloading semantic_version-2.10.0-py2.py3-none-any.whl (15 kB)\n",
            "Requirement already satisfied: typing-extensions~=4.0 in /usr/local/lib/python3.10/dist-packages (from gradio==3.45.0) (4.9.0)\n",
            "Requirement already satisfied: uvicorn>=0.14.0 in /usr/local/lib/python3.10/dist-packages (from gradio==3.45.0) (0.30.3)\n",
            "Collecting websockets<12.0,>=10.0 (from gradio==3.45.0)\n",
            "  Downloading websockets-11.0.3-cp310-cp310-manylinux_2_5_x86_64.manylinux1_x86_64.manylinux_2_17_x86_64.manylinux2014_x86_64.whl (129 kB)\n",
            "\u001b[2K     \u001b[90m━━━━━━━━━━━━━━━━━━━━━━━━━━━━━━━━━━━━━━━━\u001b[0m \u001b[32m129.9/129.9 kB\u001b[0m \u001b[31m12.0 MB/s\u001b[0m eta \u001b[36m0:00:00\u001b[0m\n",
            "\u001b[?25hRequirement already satisfied: fsspec in /usr/local/lib/python3.10/dist-packages (from gradio-client==0.5.2->gradio==3.45.0) (2023.6.0)\n",
            "Requirement already satisfied: entrypoints in /usr/local/lib/python3.10/dist-packages (from altair<6.0,>=4.2.0->gradio==3.45.0) (0.4)\n",
            "Requirement already satisfied: jsonschema>=3.0 in /usr/local/lib/python3.10/dist-packages (from altair<6.0,>=4.2.0->gradio==3.45.0) (4.19.2)\n",
            "Requirement already satisfied: toolz in /usr/local/lib/python3.10/dist-packages (from altair<6.0,>=4.2.0->gradio==3.45.0) (0.12.1)\n",
            "Requirement already satisfied: filelock in /usr/local/lib/python3.10/dist-packages (from huggingface-hub>=0.14.0->gradio==3.45.0) (3.15.4)\n",
            "Requirement already satisfied: tqdm>=4.42.1 in /usr/local/lib/python3.10/dist-packages (from huggingface-hub>=0.14.0->gradio==3.45.0) (4.66.4)\n",
            "Requirement already satisfied: contourpy>=1.0.1 in /usr/local/lib/python3.10/dist-packages (from matplotlib~=3.0->gradio==3.45.0) (1.2.1)\n",
            "Requirement already satisfied: cycler>=0.10 in /usr/local/lib/python3.10/dist-packages (from matplotlib~=3.0->gradio==3.45.0) (0.12.1)\n",
            "Requirement already satisfied: fonttools>=4.22.0 in /usr/local/lib/python3.10/dist-packages (from matplotlib~=3.0->gradio==3.45.0) (4.53.1)\n",
            "Requirement already satisfied: kiwisolver>=1.3.1 in /usr/local/lib/python3.10/dist-packages (from matplotlib~=3.0->gradio==3.45.0) (1.4.5)\n",
            "Requirement already satisfied: pyparsing>=2.3.1 in /usr/local/lib/python3.10/dist-packages (from matplotlib~=3.0->gradio==3.45.0) (3.1.2)\n",
            "Requirement already satisfied: python-dateutil>=2.7 in /usr/local/lib/python3.10/dist-packages (from matplotlib~=3.0->gradio==3.45.0) (2.8.2)\n",
            "Requirement already satisfied: pytz>=2020.1 in /usr/local/lib/python3.10/dist-packages (from pandas<3.0,>=1.0->gradio==3.45.0) (2023.4)\n",
            "Requirement already satisfied: tzdata>=2022.7 in /usr/local/lib/python3.10/dist-packages (from pandas<3.0,>=1.0->gradio==3.45.0) (2024.1)\n",
            "Requirement already satisfied: annotated-types>=0.4.0 in /usr/local/lib/python3.10/dist-packages (from pydantic!=1.8,!=1.8.1,!=2.0.0,!=2.0.1,<3.0.0,>=1.7.4->gradio==3.45.0) (0.7.0)\n",
            "Requirement already satisfied: pydantic-core==2.20.1 in /usr/local/lib/python3.10/dist-packages (from pydantic!=1.8,!=1.8.1,!=2.0.0,!=2.0.1,<3.0.0,>=1.7.4->gradio==3.45.0) (2.20.1)\n",
            "Requirement already satisfied: charset-normalizer<4,>=2 in /usr/local/lib/python3.10/dist-packages (from requests~=2.0->gradio==3.45.0) (3.3.2)\n",
            "Requirement already satisfied: idna<4,>=2.5 in /usr/local/lib/python3.10/dist-packages (from requests~=2.0->gradio==3.45.0) (3.7)\n",
            "Requirement already satisfied: urllib3<3,>=1.21.1 in /usr/local/lib/python3.10/dist-packages (from requests~=2.0->gradio==3.45.0) (2.0.7)\n",
            "Requirement already satisfied: certifi>=2017.4.17 in /usr/local/lib/python3.10/dist-packages (from requests~=2.0->gradio==3.45.0) (2024.7.4)\n",
            "Requirement already satisfied: click>=7.0 in /usr/local/lib/python3.10/dist-packages (from uvicorn>=0.14.0->gradio==3.45.0) (8.1.7)\n",
            "Requirement already satisfied: h11>=0.8 in /usr/local/lib/python3.10/dist-packages (from uvicorn>=0.14.0->gradio==3.45.0) (0.14.0)\n",
            "Requirement already satisfied: starlette<0.38.0,>=0.37.2 in /usr/local/lib/python3.10/dist-packages (from fastapi->gradio==3.45.0) (0.37.2)\n",
            "Requirement already satisfied: fastapi-cli>=0.0.2 in /usr/local/lib/python3.10/dist-packages (from fastapi->gradio==3.45.0) (0.0.4)\n",
            "Requirement already satisfied: email_validator>=2.0.0 in /usr/local/lib/python3.10/dist-packages (from fastapi->gradio==3.45.0) (2.2.0)\n",
            "Requirement already satisfied: anyio in /usr/local/lib/python3.10/dist-packages (from httpx->gradio==3.45.0) (3.7.1)\n",
            "Requirement already satisfied: httpcore==1.* in /usr/local/lib/python3.10/dist-packages (from httpx->gradio==3.45.0) (1.0.5)\n",
            "Requirement already satisfied: sniffio in /usr/local/lib/python3.10/dist-packages (from httpx->gradio==3.45.0) (1.3.1)\n",
            "Requirement already satisfied: dnspython>=2.0.0 in /usr/local/lib/python3.10/dist-packages (from email_validator>=2.0.0->fastapi->gradio==3.45.0) (2.6.1)\n",
            "Requirement already satisfied: typer>=0.12.3 in /usr/local/lib/python3.10/dist-packages (from fastapi-cli>=0.0.2->fastapi->gradio==3.45.0) (0.12.3)\n",
            "Requirement already satisfied: attrs>=22.2.0 in /usr/local/lib/python3.10/dist-packages (from jsonschema>=3.0->altair<6.0,>=4.2.0->gradio==3.45.0) (23.2.0)\n",
            "Requirement already satisfied: jsonschema-specifications>=2023.03.6 in /usr/local/lib/python3.10/dist-packages (from jsonschema>=3.0->altair<6.0,>=4.2.0->gradio==3.45.0) (2023.12.1)\n",
            "Requirement already satisfied: referencing>=0.28.4 in /usr/local/lib/python3.10/dist-packages (from jsonschema>=3.0->altair<6.0,>=4.2.0->gradio==3.45.0) (0.35.1)\n",
            "Requirement already satisfied: rpds-py>=0.7.1 in /usr/local/lib/python3.10/dist-packages (from jsonschema>=3.0->altair<6.0,>=4.2.0->gradio==3.45.0) (0.19.0)\n",
            "Requirement already satisfied: six>=1.5 in /usr/local/lib/python3.10/dist-packages (from python-dateutil>=2.7->matplotlib~=3.0->gradio==3.45.0) (1.16.0)\n",
            "Requirement already satisfied: exceptiongroup in /usr/local/lib/python3.10/dist-packages (from anyio->httpx->gradio==3.45.0) (1.2.2)\n",
            "Requirement already satisfied: httptools>=0.5.0 in /usr/local/lib/python3.10/dist-packages (from uvicorn>=0.14.0->gradio==3.45.0) (0.6.1)\n",
            "Requirement already satisfied: python-dotenv>=0.13 in /usr/local/lib/python3.10/dist-packages (from uvicorn>=0.14.0->gradio==3.45.0) (1.0.1)\n",
            "Requirement already satisfied: uvloop!=0.15.0,!=0.15.1,>=0.14.0 in /usr/local/lib/python3.10/dist-packages (from uvicorn>=0.14.0->gradio==3.45.0) (0.19.0)\n",
            "Requirement already satisfied: watchfiles>=0.13 in /usr/local/lib/python3.10/dist-packages (from uvicorn>=0.14.0->gradio==3.45.0) (0.22.0)\n",
            "Requirement already satisfied: shellingham>=1.3.0 in /usr/local/lib/python3.10/dist-packages (from typer>=0.12.3->fastapi-cli>=0.0.2->fastapi->gradio==3.45.0) (1.5.4)\n",
            "Requirement already satisfied: rich>=10.11.0 in /usr/local/lib/python3.10/dist-packages (from typer>=0.12.3->fastapi-cli>=0.0.2->fastapi->gradio==3.45.0) (13.7.1)\n",
            "Requirement already satisfied: markdown-it-py>=2.2.0 in /usr/local/lib/python3.10/dist-packages (from rich>=10.11.0->typer>=0.12.3->fastapi-cli>=0.0.2->fastapi->gradio==3.45.0) (3.0.0)\n",
            "Requirement already satisfied: pygments<3.0.0,>=2.13.0 in /usr/local/lib/python3.10/dist-packages (from rich>=10.11.0->typer>=0.12.3->fastapi-cli>=0.0.2->fastapi->gradio==3.45.0) (2.16.1)\n",
            "Requirement already satisfied: mdurl~=0.1 in /usr/local/lib/python3.10/dist-packages (from markdown-it-py>=2.2.0->rich>=10.11.0->typer>=0.12.3->fastapi-cli>=0.0.2->fastapi->gradio==3.45.0) (0.1.2)\n",
            "Building wheels for collected packages: ffmpy\n",
            "  Building wheel for ffmpy (setup.py) ... \u001b[?25l\u001b[?25hdone\n",
            "  Created wheel for ffmpy: filename=ffmpy-0.3.2-py3-none-any.whl size=5584 sha256=1f5a35db3de0d7d6b108fb89971f65513b78efd389ae59301a7ddd43b75e0cd0\n",
            "  Stored in directory: /root/.cache/pip/wheels/bd/65/9a/671fc6dcde07d4418df0c592f8df512b26d7a0029c2a23dd81\n",
            "Successfully built ffmpy\n",
            "Installing collected packages: pydub, ffmpy, websockets, semantic-version, aiofiles, gradio-client, gradio\n",
            "  Attempting uninstall: websockets\n",
            "    Found existing installation: websockets 12.0\n",
            "    Uninstalling websockets-12.0:\n",
            "      Successfully uninstalled websockets-12.0\n",
            "Successfully installed aiofiles-23.2.1 ffmpy-0.3.2 gradio-3.45.0 gradio-client-0.5.2 pydub-0.25.1 semantic-version-2.10.0 websockets-11.0.3\n"
          ]
        }
      ],
      "source": [
        "!pip install gradio==\"3.45.0\""
      ]
    },
    {
      "cell_type": "code",
      "execution_count": null,
      "metadata": {
        "colab": {
          "base_uri": "https://localhost:8080/"
        },
        "id": "AbD_3pIv3d7X",
        "outputId": "e7c93b88-4702-4709-e355-9f458006f141"
      },
      "outputs": [
        {
          "name": "stdout",
          "output_type": "stream",
          "text": [
            "--2024-07-23 06:38:05--  https://i.pinimg.com/originals/aa/70/8d/aa708d1f97a04f6f5a208213f89e1e67.png\n",
            "Resolving i.pinimg.com (i.pinimg.com)... 23.199.34.114, 23.199.34.112, 2600:1417:76::17d2:d71b, ...\n",
            "Connecting to i.pinimg.com (i.pinimg.com)|23.199.34.114|:443... connected.\n",
            "HTTP request sent, awaiting response... 200 OK\n",
            "Length: 97892 (96K) [image/png]\n",
            "Saving to: ‘aa708d1f97a04f6f5a208213f89e1e67.png’\n",
            "\n",
            "aa708d1f97a04f6f5a2 100%[===================>]  95.60K  --.-KB/s    in 0.007s  \n",
            "\n",
            "2024-07-23 06:38:06 (12.9 MB/s) - ‘aa708d1f97a04f6f5a208213f89e1e67.png’ saved [97892/97892]\n",
            "\n",
            "--2024-07-23 06:38:06--  https://www.forbesindia.com/media/wpower2020/Monika%20Shergill.jpg\n",
            "Resolving www.forbesindia.com (www.forbesindia.com)... 184.85.109.159, 2600:1417:76:1a0::3393, 2600:1417:76:195::3393\n",
            "Connecting to www.forbesindia.com (www.forbesindia.com)|184.85.109.159|:443... connected.\n",
            "HTTP request sent, awaiting response... 301 Moved Permanently\n",
            "Location: https://cms-article.forbesindia.com/media/wpower2020/Monika%20Shergill.jpg [following]\n",
            "--2024-07-23 06:38:06--  https://cms-article.forbesindia.com/media/wpower2020/Monika%20Shergill.jpg\n",
            "Resolving cms-article.forbesindia.com (cms-article.forbesindia.com)... 104.116.243.160, 104.116.243.187, 2600:1417:76::6874:f3a0, ...\n",
            "Connecting to cms-article.forbesindia.com (cms-article.forbesindia.com)|104.116.243.160|:443... connected.\n",
            "HTTP request sent, awaiting response... 200 OK\n",
            "Length: 155649 (152K) [image/jpeg]\n",
            "Saving to: ‘Monika Shergill.jpg’\n",
            "\n",
            "Monika Shergill.jpg 100%[===================>] 152.00K   361KB/s    in 0.4s    \n",
            "\n",
            "2024-07-23 06:38:07 (361 KB/s) - ‘Monika Shergill.jpg’ saved [155649/155649]\n",
            "\n"
          ]
        }
      ],
      "source": [
        "!wget https://i.pinimg.com/originals/aa/70/8d/aa708d1f97a04f6f5a208213f89e1e67.png\n",
        "!wget https://www.forbesindia.com/media/wpower2020/Monika%20Shergill.jpg"
      ]
    },
    {
      "cell_type": "code",
      "execution_count": null,
      "metadata": {
        "id": "17PWrW4wsOhG"
      },
      "outputs": [],
      "source": [
        "#------------------\n",
        "# UI for Gradio\n",
        "from __future__ import annotations\n",
        "from typing import Iterable\n",
        "import gradio as gr\n",
        "from gradio.themes.base import Base\n",
        "from gradio.themes.utils import colors, fonts, sizes\n",
        "import time\n",
        "\n",
        "class Seafoam(Base):\n",
        "    def __init__(\n",
        "        self,\n",
        "        *,\n",
        "        primary_hue: colors.Color | str = colors.emerald,\n",
        "        secondary_hue: colors.Color | str = colors.blue,\n",
        "        neutral_hue: colors.Color | str = colors.blue,\n",
        "        font: fonts.Font\n",
        "        | str\n",
        "        | Iterable[fonts.Font | str] = (\n",
        "            fonts.GoogleFont(\"Quicksand\"),\n",
        "            \"ui-sans-serif\",\n",
        "            \"sans-serif\",\n",
        "        ),\n",
        "        font_mono: fonts.Font\n",
        "        | str\n",
        "        | Iterable[fonts.Font | str] = (\n",
        "            fonts.GoogleFont(\"IBM Plex Mono\"),\n",
        "            \"ui-monospace\",\n",
        "            \"monospace\",\n",
        "        ),\n",
        "    ):\n",
        "        super().__init__(\n",
        "            primary_hue=primary_hue,\n",
        "            secondary_hue=secondary_hue,\n",
        "            neutral_hue=neutral_hue,\n",
        "          )\n",
        "\n",
        "        super().set(\n",
        "            body_background_fill='#F1F3F6', # no effect\n",
        "            body_background_fill_dark='#F1F3F6', # main background color\n",
        "            button_primary_background_fill=\"F2E757\", # no effect\n",
        "            button_primary_background_fill_hover=\"F2E757\", # no effect\n",
        "            button_primary_text_color=\"white\", # no effect\n",
        "            button_primary_background_fill_dark=\"#FF9F01\", # run button background\n",
        "\n",
        "            slider_color=\"*F2E757\", # no effect\n",
        "            slider_color_dark=\"*F2E757\", # no effect\n",
        "            block_border_width=\"3px\",\n",
        "            # block_shadow=\"*shadow_drop_lg\",\n",
        "            block_background_fill='#EAE9E7', # no effect\n",
        "            block_background_fill_dark='#ffffff', # boxes\n",
        "            # button_shadow=\"*shadow_drop_lg\"\n",
        "\n",
        "            input_border_color=\"#ff0000\",\n",
        "            input_background_fill=\"zinc\",\n",
        "            block_border_color_dark='*error_text_color',\n",
        "            background_fill_secondary_dark='*input_background_fill_focus',\n",
        "            color_accent_soft_dark='*block_info_text_color',\n",
        "            input_background_fill_dark='*input_background_fill_focus',\n",
        "            input_placeholder_color='white'\n",
        "        )\n",
        "\n",
        "seafoam = Seafoam()\n",
        "\n",
        "css = \"\"\"\n",
        "          #left_image {\n",
        "          background-color: \"grey\";\n",
        "          color: \"00FF00\";\n",
        "          }\n",
        "\n",
        "          .btn {\n",
        "            background-color: \"#00ffff\" !important;\n",
        "            color: \"#ff0000\";\n",
        "          }\n",
        "\n",
        "          .abc {\n",
        "            background: color: \"red\" !important;\n",
        "            color: \"red\";\n",
        "          }\n",
        "\"\"\""
      ]
    },
    {
      "cell_type": "code",
      "execution_count": null,
      "metadata": {
        "colab": {
          "base_uri": "https://localhost:8080/",
          "height": 719
        },
        "id": "OYKjoKrSsOe0",
        "outputId": "e44957bb-ef83-4ae8-afb2-cad50be8903a"
      },
      "outputs": [
        {
          "name": "stdout",
          "output_type": "stream",
          "text": [
            "/content\n",
            "Content in 'prompt.txt' has been cleared.\n",
            "Setting queue=True in a Colab notebook requires sharing enabled. Setting `share=True` (you can turn this off by setting `share=False` in `launch()` explicitly).\n",
            "\n",
            "Colab notebook detected. To show errors in colab notebook, set debug=True in launch()\n",
            "IMPORTANT: You are using gradio version 3.45.0, however version 4.29.0 is available, please upgrade.\n",
            "--------\n",
            "Running on public URL: https://14d363c74c47263e07.gradio.live\n",
            "\n",
            "This share link expires in 72 hours. For free permanent hosting and GPU upgrades, run `gradio deploy` from Terminal to deploy to Spaces (https://huggingface.co/spaces)\n"
          ]
        },
        {
          "data": {
            "text/html": [
              "<div><iframe src=\"https://14d363c74c47263e07.gradio.live\" width=\"100%\" height=\"500\" allow=\"autoplay; camera; microphone; clipboard-read; clipboard-write;\" frameborder=\"0\" allowfullscreen></iframe></div>"
            ],
            "text/plain": [
              "<IPython.core.display.HTML object>"
            ]
          },
          "metadata": {},
          "output_type": "display_data"
        },
        {
          "data": {
            "text/plain": []
          },
          "execution_count": 38,
          "metadata": {},
          "output_type": "execute_result"
        }
      ],
      "source": [
        "%cd /content\n",
        "import io\n",
        "import os\n",
        "import time\n",
        "import math\n",
        "import shutil\n",
        "import gradio as gr\n",
        "from datetime import datetime\n",
        "\n",
        "# To set up new discussions file for every new user login\n",
        "file_name = 'prompt.txt'\n",
        "\n",
        "try:\n",
        "    with open(file_name, 'w') as file:\n",
        "        print(f\"Content in '{file_name}' has been cleared.\")\n",
        "except FileNotFoundError:\n",
        "    if not os.path.exists(file_name):\n",
        "        with open(file_name, 'w') as file:\n",
        "            pass\n",
        "    print(f\"'{file_name}' has been created and is empty.\")\n",
        "\n",
        "# To maintain and display chat conversations on the UI\n",
        "def add_text(history, text):\n",
        "    global prompt\n",
        "    prompt = text\n",
        "    history = history + [(text, None)]\n",
        "    return history, gr.update(value=\"\", interactive=False)\n",
        "\n",
        "# Setting up trigger words to execute the pipelines\n",
        "def bot(history):\n",
        "    global prompt\n",
        "    response = advisor_reasoning(prompt, discussions)\n",
        "    history = history + [(None, response)]\n",
        "    return history\n",
        "\n",
        "# Define the Gradio interface\n",
        "names = []\n",
        "height = 800\n",
        "width_0, width_1 = 400, 800\n",
        "scale_0, scale_1 = width_0 // math.gcd(width_0, width_1), width_1 // math.gcd(width_0, width_1)\n",
        "\n",
        "\n",
        "# Define the Gradio interface\n",
        "with gr.Blocks(theme=seafoam, css=css) as demo:\n",
        "    gr.Markdown(\"\"\"<div align=\"center\"><font size=\"10\" style=\"color: #2563EB; font-weight: bold; font-family: 'Arial', sans-serif;\">LLM NEGOTIATOR</font></div>\"\"\")\n",
        "\n",
        "    with gr.Row(): # Display the HTML content inside a scrollable div\n",
        "\n",
        "        with gr.Column():\n",
        "            chatbot = gr.Chatbot(\n",
        "                [(None, \"Welcome **Hrushikesh**, \\nYour order history and preferences have been retrieved!\"),\n",
        "                 (None, \"How can I assist you in securing the best price for your desired product?\")],\n",
        "                height=850,\n",
        "                elem_id=\"chatbot\",\n",
        "                bubble_full_width=False,\n",
        "                avatar_images=(\"Monika Shergill.jpg\", \"aa708d1f97a04f6f5a208213f89e1e67.png\"),\n",
        "            )\n",
        "\n",
        "            with gr.Row():\n",
        "                with gr.Column(scale=1):\n",
        "                    txt = gr.Textbox(\n",
        "                        show_label=False,\n",
        "                        placeholder=\"You can chat here\"\n",
        "                    )\n",
        "\n",
        "            txt_msg = txt.submit(add_text, [chatbot, txt], [chatbot, txt], queue=False).then(\n",
        "            bot, chatbot, chatbot\n",
        "            )\n",
        "            txt_msg.then(lambda: gr.update(interactive=True), None, [txt], queue=False)\n",
        "\n",
        "demo.queue()\n",
        "demo.launch()\n"
      ]
    },
    {
      "cell_type": "code",
      "execution_count": null,
      "metadata": {
        "id": "XwKNDXMYpv9S"
      },
      "outputs": [],
      "source": []
    },
    {
      "cell_type": "markdown",
      "metadata": {
        "id": "b2KRTxVj7iuO"
      },
      "source": [
        "# Flipkart Page"
      ]
    },
    {
      "cell_type": "code",
      "execution_count": null,
      "metadata": {
        "colab": {
          "base_uri": "https://localhost:8080/"
        },
        "id": "dyTTFwJ87kUU",
        "outputId": "1e131b71-7726-4ab7-cee6-6f3a6bc5977d"
      },
      "outputs": [
        {
          "name": "stdout",
          "output_type": "stream",
          "text": [
            "Cloning into 'Recathon'...\n",
            "remote: Enumerating objects: 231, done.\u001b[K\n",
            "remote: Counting objects: 100% (231/231), done.\u001b[K\n",
            "remote: Compressing objects: 100% (224/224), done.\u001b[K\n",
            "remote: Total 231 (delta 3), reused 231 (delta 3), pack-reused 0\u001b[K\n",
            "Receiving objects: 100% (231/231), 11.97 MiB | 9.79 MiB/s, done.\n",
            "Resolving deltas: 100% (3/3), done.\n"
          ]
        }
      ],
      "source": [
        "!git clone https://github.com/prathameshparit/Recathon.git"
      ]
    },
    {
      "cell_type": "code",
      "execution_count": null,
      "metadata": {
        "colab": {
          "base_uri": "https://localhost:8080/"
        },
        "id": "5nplOsZtTCGI",
        "outputId": "e0cfc805-839d-43cf-8c16-a57fdb4cf6e7"
      },
      "outputs": [
        {
          "name": "stdout",
          "output_type": "stream",
          "text": [
            "/content/Recathon\n",
            " * ngrok tunnel \"NgrokTunnel: \"https://0efd-35-229-215-67.ngrok-free.app\" -> \"http://localhost:5000\"\" -> \"http://127.0.0.1:5000/\"\n",
            " * Serving Flask app '__main__'\n",
            " * Debug mode: off\n"
          ]
        },
        {
          "name": "stderr",
          "output_type": "stream",
          "text": [
            "INFO:werkzeug:\u001b[31m\u001b[1mWARNING: This is a development server. Do not use it in a production deployment. Use a production WSGI server instead.\u001b[0m\n",
            " * Running on http://127.0.0.1:5000\n",
            "INFO:werkzeug:\u001b[33mPress CTRL+C to quit\u001b[0m\n",
            "INFO:werkzeug:127.0.0.1 - - [23/Jul/2024 06:36:39] \"GET / HTTP/1.1\" 200 -\n",
            "INFO:werkzeug:127.0.0.1 - - [23/Jul/2024 06:36:40] \"GET /static/assets/css/main.css HTTP/1.1\" 200 -\n",
            "INFO:werkzeug:127.0.0.1 - - [23/Jul/2024 06:36:40] \"\u001b[33mGET /static/assets/img/replacement.png HTTP/1.1\u001b[0m\" 404 -\n",
            "INFO:werkzeug:127.0.0.1 - - [23/Jul/2024 06:36:40] \"\u001b[33mGET /static/assets/img/addition.png HTTP/1.1\u001b[0m\" 404 -\n",
            "INFO:werkzeug:127.0.0.1 - - [23/Jul/2024 06:36:40] \"\u001b[33mGET /static/assets/img/conversation.png HTTP/1.1\u001b[0m\" 404 -\n",
            "INFO:werkzeug:127.0.0.1 - - [23/Jul/2024 06:36:40] \"GET /static/assets/img/logo.png HTTP/1.1\" 200 -\n",
            "INFO:werkzeug:127.0.0.1 - - [23/Jul/2024 06:36:41] \"GET /static/assets/js/functions-min.js HTTP/1.1\" 200 -\n",
            "INFO:werkzeug:127.0.0.1 - - [23/Jul/2024 06:36:41] \"GET /static/assets/img/200.png HTTP/1.1\" 200 -\n",
            "INFO:werkzeug:127.0.0.1 - - [23/Jul/2024 06:36:41] \"GET /static/assets/css/fonts/Montserrat-Light.woff HTTP/1.1\" 200 -\n",
            "INFO:werkzeug:127.0.0.1 - - [23/Jul/2024 06:36:41] \"GET /static/assets/css/fonts/Montserrat-Bold.woff HTTP/1.1\" 200 -\n",
            "INFO:werkzeug:127.0.0.1 - - [23/Jul/2024 06:36:41] \"GET /static/assets/css/fonts/Montserrat-Black.woff HTTP/1.1\" 200 -\n",
            "INFO:werkzeug:127.0.0.1 - - [23/Jul/2024 06:36:42] \"GET /static/assets/css/fonts/Montserrat-Regular.woff HTTP/1.1\" 200 -\n",
            "INFO:werkzeug:127.0.0.1 - - [23/Jul/2024 06:36:43] \"GET /flipkart_home HTTP/1.1\" 200 -\n",
            "INFO:werkzeug:127.0.0.1 - - [23/Jul/2024 06:36:43] \"GET /static/assets/img/contact-visual.png HTTP/1.1\" 200 -\n",
            "INFO:werkzeug:127.0.0.1 - - [23/Jul/2024 06:36:43] \"GET /static/assets/img/5.jpg HTTP/1.1\" 200 -\n",
            "INFO:werkzeug:127.0.0.1 - - [23/Jul/2024 06:36:43] \"GET /static/assets/img/6.png HTTP/1.1\" 200 -\n",
            "INFO:werkzeug:127.0.0.1 - - [23/Jul/2024 06:36:43] \"GET /static/assets/img/4.png HTTP/1.1\" 200 -\n",
            "INFO:werkzeug:127.0.0.1 - - [23/Jul/2024 06:36:44] \"GET /static/assets/css/styling/style.css HTTP/1.1\" 200 -\n",
            "INFO:werkzeug:127.0.0.1 - - [23/Jul/2024 06:36:45] \"GET /static/assets/css/styling/util.css HTTP/1.1\" 200 -\n",
            "INFO:werkzeug:127.0.0.1 - - [23/Jul/2024 06:36:45] \"GET /static/assets/css/styling/animation.css HTTP/1.1\" 200 -\n",
            "INFO:werkzeug:127.0.0.1 - - [23/Jul/2024 06:36:45] \"GET /static/assets/css/styling/dropdown.css HTTP/1.1\" 200 -\n",
            "INFO:werkzeug:127.0.0.1 - - [23/Jul/2024 06:36:45] \"GET /static/assets/css/styling/responsive.css HTTP/1.1\" 200 -\n",
            "INFO:werkzeug:127.0.0.1 - - [23/Jul/2024 06:36:45] \"GET /static/assets/images/flipkart.png HTTP/1.1\" 200 -\n",
            "INFO:werkzeug:127.0.0.1 - - [23/Jul/2024 06:36:45] \"GET /static/assets/js/JavaScript/app.js HTTP/1.1\" 200 -\n",
            "INFO:werkzeug:127.0.0.1 - - [23/Jul/2024 06:36:45] \"GET /static/assets/images/grocery.webp HTTP/1.1\" 200 -\n",
            "INFO:werkzeug:127.0.0.1 - - [23/Jul/2024 06:36:46] \"GET /static/assets/images/mobiles.webp HTTP/1.1\" 200 -\n",
            "INFO:werkzeug:127.0.0.1 - - [23/Jul/2024 06:36:46] \"GET /static/assets/images/fashion.webp HTTP/1.1\" 200 -\n",
            "INFO:werkzeug:127.0.0.1 - - [23/Jul/2024 06:36:46] \"GET /static/assets/images/electronics.webp HTTP/1.1\" 200 -\n",
            "INFO:werkzeug:127.0.0.1 - - [23/Jul/2024 06:36:46] \"GET /static/assets/images/plus.png HTTP/1.1\" 200 -\n",
            "INFO:werkzeug:127.0.0.1 - - [23/Jul/2024 06:36:46] \"GET /static/assets/images/travel.webp HTTP/1.1\" 200 -\n",
            "INFO:werkzeug:127.0.0.1 - - [23/Jul/2024 06:36:46] \"GET /static/assets/images/img2.webp HTTP/1.1\" 200 -\n",
            "INFO:werkzeug:127.0.0.1 - - [23/Jul/2024 06:36:46] \"GET /static/assets/images/img4.webp HTTP/1.1\" 200 -\n",
            "INFO:werkzeug:127.0.0.1 - - [23/Jul/2024 06:36:46] \"GET /static/assets/images/home.webp HTTP/1.1\" 200 -\n",
            "INFO:werkzeug:127.0.0.1 - - [23/Jul/2024 06:36:46] \"GET /static/assets/images/img1.webp HTTP/1.1\" 200 -\n",
            "INFO:werkzeug:127.0.0.1 - - [23/Jul/2024 06:36:47] \"GET /static/assets/images/img3.webp HTTP/1.1\" 200 -\n",
            "INFO:werkzeug:127.0.0.1 - - [23/Jul/2024 06:36:47] \"GET /static/assets/images/beauty.webp HTTP/1.1\" 200 -\n",
            "INFO:werkzeug:127.0.0.1 - - [23/Jul/2024 06:36:47] \"GET /static/assets/images/topOffers.webp HTTP/1.1\" 200 -\n",
            "INFO:werkzeug:127.0.0.1 - - [23/Jul/2024 06:36:47] \"GET /static/assets/images/appliances.webp HTTP/1.1\" 200 -\n",
            "INFO:werkzeug:127.0.0.1 - - [23/Jul/2024 06:36:47] \"GET /static/assets/images/bike.png HTTP/1.1\" 200 -\n",
            "INFO:werkzeug:127.0.0.1 - - [23/Jul/2024 06:36:47] \"GET /static/assets/images/dslr.webp HTTP/1.1\" 200 -\n",
            "INFO:werkzeug:127.0.0.1 - - [23/Jul/2024 06:36:47] \"GET /static/assets/images/tyre.webp HTTP/1.1\" 200 -\n",
            "INFO:werkzeug:127.0.0.1 - - [23/Jul/2024 06:36:48] \"GET /static/assets/images/viewAll.webp HTTP/1.1\" 200 -\n",
            "INFO:werkzeug:127.0.0.1 - - [23/Jul/2024 06:36:48] \"GET /static/assets/images/wtrimmers.webp HTTP/1.1\" 200 -\n",
            "INFO:werkzeug:127.0.0.1 - - [23/Jul/2024 06:36:48] \"GET /static/assets/images/cycle.webp HTTP/1.1\" 200 -\n",
            "INFO:werkzeug:127.0.0.1 - - [23/Jul/2024 06:36:48] \"GET /static/assets/images/shaver.webp HTTP/1.1\" 200 -\n",
            "INFO:werkzeug:127.0.0.1 - - [23/Jul/2024 06:36:48] \"GET /static/assets/images/puzzle.webp HTTP/1.1\" 200 -\n",
            "INFO:werkzeug:127.0.0.1 - - [23/Jul/2024 06:36:48] \"GET /static/assets/images/dryer.webp HTTP/1.1\" 200 -\n",
            "INFO:werkzeug:127.0.0.1 - - [23/Jul/2024 06:36:48] \"GET /static/assets/images/straightner.webp HTTP/1.1\" 200 -\n",
            "INFO:werkzeug:127.0.0.1 - - [23/Jul/2024 06:36:48] \"GET /static/assets/images/printer.webp HTTP/1.1\" 200 -\n",
            "INFO:werkzeug:127.0.0.1 - - [23/Jul/2024 06:36:49] \"GET /static/assets/images/Monitors.webp HTTP/1.1\" 200 -\n",
            "INFO:werkzeug:127.0.0.1 - - [23/Jul/2024 06:36:49] \"GET /static/assets/images/viewBeauty.webp HTTP/1.1\" 200 -\n",
            "INFO:werkzeug:127.0.0.1 - - [23/Jul/2024 06:36:49] \"GET /static/assets/images/headphone.webp HTTP/1.1\" 200 -\n",
            "INFO:werkzeug:127.0.0.1 - - [23/Jul/2024 06:36:49] \"GET /static/assets/images/batman.webp HTTP/1.1\" 200 -\n",
            "INFO:werkzeug:127.0.0.1 - - [23/Jul/2024 06:36:49] \"GET /static/assets/images/treadmill.webp HTTP/1.1\" 200 -\n",
            "INFO:werkzeug:127.0.0.1 - - [23/Jul/2024 06:36:49] \"GET /static/assets/images/guitar.webp HTTP/1.1\" 200 -\n",
            "INFO:werkzeug:127.0.0.1 - - [23/Jul/2024 06:36:49] \"GET /static/assets/images/block1.webp HTTP/1.1\" 200 -\n",
            "INFO:werkzeug:127.0.0.1 - - [23/Jul/2024 06:36:49] \"GET /static/assets/images/block2.webp HTTP/1.1\" 200 -\n",
            "INFO:werkzeug:127.0.0.1 - - [23/Jul/2024 06:36:49] \"GET /static/assets/images/block3.webp HTTP/1.1\" 200 -\n",
            "INFO:werkzeug:127.0.0.1 - - [23/Jul/2024 06:36:49] \"GET /static/assets/images/block4.webp HTTP/1.1\" 200 -\n",
            "INFO:werkzeug:127.0.0.1 - - [23/Jul/2024 06:36:50] \"GET /flipkart_product HTTP/1.1\" 200 -\n",
            "INFO:werkzeug:127.0.0.1 - - [23/Jul/2024 06:36:50] \"GET /static/assets/images/block5.webp HTTP/1.1\" 200 -\n",
            "INFO:werkzeug:127.0.0.1 - - [23/Jul/2024 06:36:50] \"GET /static/assets/images/block6.webp HTTP/1.1\" 200 -\n",
            "INFO:werkzeug:127.0.0.1 - - [23/Jul/2024 06:36:50] \"GET /static/assets/css/style.css HTTP/1.1\" 200 -\n",
            "INFO:werkzeug:127.0.0.1 - - [23/Jul/2024 06:36:50] \"GET /static/assets/iphone/1.jpg HTTP/1.1\" 200 -\n",
            "INFO:werkzeug:127.0.0.1 - - [23/Jul/2024 06:36:50] \"GET /static/assets/iphone/2.png HTTP/1.1\" 200 -\n",
            "INFO:werkzeug:127.0.0.1 - - [23/Jul/2024 06:36:50] \"GET /static/assets/images/block7.webp HTTP/1.1\" 200 -\n",
            "INFO:werkzeug:127.0.0.1 - - [23/Jul/2024 06:36:50] \"GET /static/assets/images/viewHome.webp HTTP/1.1\" 200 -\n",
            "INFO:werkzeug:127.0.0.1 - - [23/Jul/2024 06:36:51] \"GET /static/assets/iphone/3.jpeg HTTP/1.1\" 200 -\n",
            "INFO:werkzeug:127.0.0.1 - - [23/Jul/2024 06:36:51] \"GET /static/assets/images/plants.webp HTTP/1.1\" 200 -\n",
            "INFO:werkzeug:127.0.0.1 - - [23/Jul/2024 06:36:51] \"GET /static/assets/images/bulb.webp HTTP/1.1\" 200 -\n",
            "INFO:werkzeug:127.0.0.1 - - [23/Jul/2024 06:36:51] \"GET /static/assets/images/Matress.webp HTTP/1.1\" 200 -\n",
            "INFO:werkzeug:127.0.0.1 - - [23/Jul/2024 06:36:51] \"GET /static/assets/iphone/1-removebg-preview.png HTTP/1.1\" 200 -\n",
            "INFO:werkzeug:127.0.0.1 - - [23/Jul/2024 06:36:51] \"GET /static/assets/images/garden.webp HTTP/1.1\" 200 -\n",
            "INFO:werkzeug:127.0.0.1 - - [23/Jul/2024 06:36:52] \"GET /static/assets/images/tape.webp HTTP/1.1\" 200 -\n",
            "INFO:werkzeug:127.0.0.1 - - [23/Jul/2024 06:36:52] \"GET /static/assets/images/vases.webp HTTP/1.1\" 200 -\n",
            "INFO:werkzeug:127.0.0.1 - - [23/Jul/2024 06:36:52] \"GET /static/assets/images/welding.webp HTTP/1.1\" 200 -\n",
            "INFO:werkzeug:127.0.0.1 - - [23/Jul/2024 06:36:52] \"GET /static/assets/images/i1.webp HTTP/1.1\" 200 -\n",
            "INFO:werkzeug:127.0.0.1 - - [23/Jul/2024 06:36:52] \"GET /static/assets/images/i2.webp HTTP/1.1\" 200 -\n",
            "INFO:werkzeug:127.0.0.1 - - [23/Jul/2024 06:36:52] \"GET /static/assets/images/i3.webp HTTP/1.1\" 200 -\n",
            "INFO:werkzeug:127.0.0.1 - - [23/Jul/2024 06:36:52] \"\u001b[33mGET /favicon.ico HTTP/1.1\u001b[0m\" 404 -\n",
            "INFO:werkzeug:127.0.0.1 - - [23/Jul/2024 06:36:53] \"GET /static/assets/images/i5.webp HTTP/1.1\" 200 -\n",
            "INFO:werkzeug:127.0.0.1 - - [23/Jul/2024 06:36:53] \"GET /static/assets/images/i4.webp HTTP/1.1\" 200 -\n",
            "INFO:werkzeug:127.0.0.1 - - [23/Jul/2024 06:36:53] \"GET /static/assets/images/i6.webp HTTP/1.1\" 200 -\n",
            "INFO:werkzeug:127.0.0.1 - - [23/Jul/2024 06:36:53] \"GET /static/assets/images/i7.webp HTTP/1.1\" 200 -\n",
            "INFO:werkzeug:127.0.0.1 - - [23/Jul/2024 06:36:53] \"GET /static/assets/images/i8.webp HTTP/1.1\" 200 -\n",
            "INFO:werkzeug:127.0.0.1 - - [23/Jul/2024 06:36:53] \"GET /static/assets/images/i9.webp HTTP/1.1\" 200 -\n",
            "INFO:werkzeug:127.0.0.1 - - [23/Jul/2024 06:36:53] \"GET /static/assets/images/i10.webp HTTP/1.1\" 200 -\n",
            "INFO:werkzeug:127.0.0.1 - - [23/Jul/2024 06:36:53] \"GET /static/assets/images/i11.webp HTTP/1.1\" 200 -\n",
            "INFO:werkzeug:127.0.0.1 - - [23/Jul/2024 06:36:53] \"GET /static/assets/images/i12.webp HTTP/1.1\" 200 -\n",
            "INFO:werkzeug:127.0.0.1 - - [23/Jul/2024 06:36:54] \"GET /static/assets/images/bag.svg HTTP/1.1\" 200 -\n",
            "INFO:werkzeug:127.0.0.1 - - [23/Jul/2024 06:36:54] \"GET /static/assets/images/i13.webp HTTP/1.1\" 200 -\n",
            "INFO:werkzeug:127.0.0.1 - - [23/Jul/2024 06:36:54] \"GET /static/assets/images/advertise.svg HTTP/1.1\" 200 -\n",
            "INFO:werkzeug:127.0.0.1 - - [23/Jul/2024 06:36:54] \"GET /static/assets/images/gift.svg HTTP/1.1\" 200 -\n",
            "INFO:werkzeug:127.0.0.1 - - [23/Jul/2024 06:36:54] \"GET /static/assets/images/help.svg HTTP/1.1\" 200 -\n",
            "INFO:werkzeug:127.0.0.1 - - [23/Jul/2024 06:36:54] \"GET /static/assets/images/payments.svg HTTP/1.1\" 200 -\n",
            "WARNING:pyngrok.process.ngrok:t=2024-07-23T06:37:03+0000 lvl=warn msg=\"Stopping forwarder\" name=http-5000-fbf32c1c-75b7-49c5-9307-4df39eb6ea16 acceptErr=\"failed to accept connection: Listener closed\"\n"
          ]
        }
      ],
      "source": [
        "%cd /content/Recathon\n",
        "\n",
        "from flask import Flask, render_template, request\n",
        "import webbrowser\n",
        "import os\n",
        "from flask import Flask\n",
        "\n",
        "# Set the ngrok auth token\n",
        "os.system('ngrok authtoken \"2UCXNjYBaO4UzEzzcOTAysVe6aQ_6823vXNxfYxZu1z4v6amw\"')\n",
        "\n",
        "# Import and configure ngrok\n",
        "from pyngrok import ngrok\n",
        "\n",
        "# Start ngrok\n",
        "public_url = ngrok.connect(5000)\n",
        "print(\" * ngrok tunnel \\\"{}\\\" -> \\\"http://127.0.0.1:5000/\\\"\".format(public_url))\n",
        "\n",
        "# Flask app\n",
        "app = Flask(__name__)\n",
        "link = \"https://4ec5c3a6b27ba5a1a5.gradio.live/\"\n",
        "\n",
        "@app.route('/', methods=['GET', 'POST'])\n",
        "def home():\n",
        "    return render_template('index.html')\n",
        "\n",
        "@app.route('/flipkart_home', methods=['GET', 'POST'])\n",
        "def flipkart_home():\n",
        "    return render_template('flipkart_home.html')\n",
        "\n",
        "@app.route('/flipkart_product', methods=['GET', 'POST'])\n",
        "def flipkart_product():\n",
        "    return render_template('flipkart_product.html', link=link)\n",
        "\n",
        "if __name__ == \"__main__\":\n",
        "    app.run()\n",
        "\n",
        "\n",
        "\n"
      ]
    }
  ],
  "metadata": {
    "colab": {
      "provenance": []
    },
    "kernelspec": {
      "display_name": "Python 3",
      "name": "python3"
    },
    "language_info": {
      "name": "python"
    }
  },
  "nbformat": 4,
  "nbformat_minor": 0
}
